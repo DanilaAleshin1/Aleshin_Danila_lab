{
 "cells": [
  {
   "cell_type": "markdown",
   "id": "controlled-senator",
   "metadata": {},
   "source": [
    "## Реализация стека"
   ]
  },
  {
   "cell_type": "code",
   "execution_count": 13,
   "id": "fifteen-justice",
   "metadata": {},
   "outputs": [],
   "source": [
    "class stek:\n",
    "    def __init__(self):\n",
    "        self.steks=list()\n",
    "        \n",
    "    # добавление элемента в стек\n",
    "    def add(self, el):\n",
    "        self.steks.insert(0, el)\n",
    "        \n",
    "    #проверка стека на пустоту\n",
    "    def testing_null(self):\n",
    "        return len(self.steks)==0\n",
    "    \n",
    "    #извлечение элемента из стека\n",
    "    def pop(self):\n",
    "        if self.testing_null():\n",
    "            return None\n",
    "        else:\n",
    "            return self.steks.pop()\n",
    "        \n",
    "        "
   ]
  },
  {
   "cell_type": "markdown",
   "id": "recorded-transformation",
   "metadata": {},
   "source": [
    "## Реализация дека"
   ]
  },
  {
   "cell_type": "code",
   "execution_count": 4,
   "id": "occupational-permission",
   "metadata": {},
   "outputs": [],
   "source": [
    "class dek:\n",
    "    def __init__(self):\n",
    "        self.deks=list()\n",
    "        \n",
    "    #Нахождение минимального элемента дека\n",
    "   # def minn(self):\n",
    "        \n",
    "    #добавление в конец дека\n",
    "    def add_left(self, el):\n",
    "        self.deks.insert(0, el)\n",
    "        \n",
    "    #добавление в начало дека\n",
    "    def add_rigth(self, el):\n",
    "        self.deks.append(el)\n",
    "        \n",
    "    #проверка дека на пустоту\n",
    "    def testing_null(self):\n",
    "        #print(self.deks)\n",
    "        return len(self.deks)==0\n",
    "    \n",
    "    #извлечение элемента из начала дека\n",
    "    def pop_rigth(self):\n",
    "        if self.testing_null():\n",
    "            return None\n",
    "        else:\n",
    "            return self.deks.pop()\n",
    "        \n",
    "    def peek_left(self):\n",
    "        if self.testing_null():\n",
    "            return None\n",
    "        else:\n",
    "            return self.deks[0]\n",
    "    def peek_rigth(self):\n",
    "        if self.testing_null():\n",
    "            return None\n",
    "        else:\n",
    "            return self.deks[-1]\n",
    "        \n",
    "    #извлечение элемента из конца дека\n",
    "    def pop_left(self):\n",
    "        if self.testing_null():\n",
    "            return None\n",
    "        else:\n",
    "            return self.deks.pop(0)\n",
    "        \n",
    "        "
   ]
  },
  {
   "cell_type": "code",
   "execution_count": null,
   "id": "scenic-healthcare",
   "metadata": {},
   "outputs": [],
   "source": []
  },
  {
   "cell_type": "code",
   "execution_count": 16,
   "id": "decent-palestinian",
   "metadata": {},
   "outputs": [
    {
     "name": "stdout",
     "output_type": "stream",
     "text": [
      "abqwe\n",
      "\n",
      "asdasd\n",
      "\n",
      "cdsmclsc\n",
      "\n",
      "cmsdklcs\n",
      "\n",
      "csdcs\n",
      "\n",
      "dcmlsc\n",
      "\n",
      "lcmdlsc\n",
      "\n",
      "skmas\n",
      "wpokp\n",
      "\n"
     ]
    }
   ],
   "source": [
    "#чтение и запись в файл\n",
    "\n",
    "# Вывод из файла в стек\n",
    "def add_with_stek(file):\n",
    "    st=stek()\n",
    "    f=open(file,'r')\n",
    "    t=f.readlines()\n",
    "    f.close()\n",
    "    for i in range(len(t)):\n",
    "        st.add(t[i])\n",
    "    return st\n",
    "\n",
    "# Вывод из файла в дек\n",
    "def add_with_dek(file):\n",
    "    st=dek()\n",
    "    f=open(file,'r')\n",
    "    t=f.readlines()\n",
    "    f.close()\n",
    "    for i in range(len(t)):\n",
    "        st.add_left(t[i])\n",
    "    return st\n",
    "\n",
    "def zadanie1(mas):\n",
    "    st1=add_with_dek(mas)\n",
    "    st2=dek()\n",
    "    while not st1.testing_null():\n",
    "        el=st1.pop_left()\n",
    "        while not st2.testing_null() and st2.peek_left()>el:\n",
    "            st1.add_rigth(st2.pop_left())\n",
    "        st2.add_left(el)      \n",
    "    return st2\n",
    "            \n",
    "\n",
    "r=zadanie1('file.txt')\n",
    "while not r.testing_null():\n",
    "    print(r.pop_rigth())\n"
   ]
  },
  {
   "cell_type": "code",
   "execution_count": null,
   "id": "wanted-astronomy",
   "metadata": {},
   "outputs": [],
   "source": []
  },
  {
   "cell_type": "code",
   "execution_count": null,
   "id": "attended-junior",
   "metadata": {},
   "outputs": [],
   "source": []
  }
 ],
 "metadata": {
  "kernelspec": {
   "display_name": "Python 3",
   "language": "python",
   "name": "python3"
  },
  "language_info": {
   "codemirror_mode": {
    "name": "ipython",
    "version": 3
   },
   "file_extension": ".py",
   "mimetype": "text/x-python",
   "name": "python",
   "nbconvert_exporter": "python",
   "pygments_lexer": "ipython3",
   "version": "3.9.1"
  }
 },
 "nbformat": 4,
 "nbformat_minor": 5
}
