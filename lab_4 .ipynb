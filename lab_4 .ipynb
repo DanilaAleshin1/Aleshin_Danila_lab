{
 "cells": [
  {
   "cell_type": "markdown",
   "id": "heated-council",
   "metadata": {},
   "source": [
    "## Реализация стека"
   ]
  },
  {
   "cell_type": "code",
   "execution_count": 1,
   "id": "standing-jackson",
   "metadata": {},
   "outputs": [],
   "source": [
    "class stek:\n",
    "    def __init__(self):\n",
    "        steks=list()\n",
    "        \n",
    "    # добавление элемента в стек\n",
    "    def add(self, el):\n",
    "        steks.insert(0, el)\n",
    "        \n",
    "    #проверка стека на пустоту\n",
    "    def testing_null(self):\n",
    "        return len(steks)==0\n",
    "    \n",
    "    #извлечение элемента из стека\n",
    "    def pop(self):\n",
    "        if self.testing_null():\n",
    "            return None\n",
    "        else:\n",
    "            return self.steks.pop()\n",
    "        \n",
    "        "
   ]
  },
  {
   "cell_type": "markdown",
   "id": "electoral-groove",
   "metadata": {},
   "source": [
    "## Реализация дека"
   ]
  },
  {
   "cell_type": "code",
   "execution_count": 2,
   "id": "occupational-permission",
   "metadata": {},
   "outputs": [],
   "source": [
    "class dek:\n",
    "    def __init__(self):\n",
    "        deks=list()\n",
    "        \n",
    "    #добавление в конец дека\n",
    "    def add_end(self, el):\n",
    "        deks.insert(0, el)\n",
    "        \n",
    "    #добавление в начало дека\n",
    "    def add_start(self, el):\n",
    "        deks.append(el)\n",
    "        \n",
    "    #проверка дека на пустоту\n",
    "    def testing_null(self):\n",
    "        return len(deks)==0\n",
    "    \n",
    "    #извлечение элемента из начала дека\n",
    "    def pop_start(self):\n",
    "        if self.testing_null():\n",
    "            return None\n",
    "        else:\n",
    "            return self.steks.pop()\n",
    "        \n",
    "    #извлечение элемента из конца дека\n",
    "    def pop_end(self):\n",
    "        if self.testing_null():\n",
    "            return None\n",
    "        else:\n",
    "            return self.steks.pop(0)\n",
    "        \n",
    "        "
   ]
  },
  {
   "cell_type": "code",
   "execution_count": null,
   "id": "published-painting",
   "metadata": {},
   "outputs": [],
   "source": []
  },
  {
   "cell_type": "code",
   "execution_count": 3,
   "id": "decent-palestinian",
   "metadata": {},
   "outputs": [],
   "source": [
    "#чтение и запись в файл\n",
    "f=open('file.txt','r')\n",
    "rez=open('rezult.txt','w+')\n",
    "string=f.readlines()\n",
    "rez.writelines(string)\n",
    "f.close()\n",
    "rez.close()"
   ]
  },
  {
   "cell_type": "code",
   "execution_count": null,
   "id": "wanted-astronomy",
   "metadata": {},
   "outputs": [],
   "source": []
  },
  {
   "cell_type": "code",
   "execution_count": null,
   "id": "attended-junior",
   "metadata": {},
   "outputs": [],
   "source": []
  }
 ],
 "metadata": {
  "kernelspec": {
   "display_name": "Python 3",
   "language": "python",
   "name": "python3"
  },
  "language_info": {
   "codemirror_mode": {
    "name": "ipython",
    "version": 3
   },
   "file_extension": ".py",
   "mimetype": "text/x-python",
   "name": "python",
   "nbconvert_exporter": "python",
   "pygments_lexer": "ipython3",
   "version": "3.9.1"
  }
 },
 "nbformat": 4,
 "nbformat_minor": 5
}
