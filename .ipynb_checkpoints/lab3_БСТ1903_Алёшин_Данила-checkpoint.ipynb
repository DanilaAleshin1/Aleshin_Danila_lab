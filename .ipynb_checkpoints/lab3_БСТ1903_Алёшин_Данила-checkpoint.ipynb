{
 "cells": [
  {
   "cell_type": "markdown",
   "id": "light-malta",
   "metadata": {},
   "source": [
    "# Задание 1\n",
    "Реализовать методы поиска подстроки в строке. Добавить возможность\n",
    "ввода строки и подстроки с клавиатуры. Предусмотреть возможность\n",
    "существования пробела. Реализовать возможность выбора опции\n",
    "чувствительности или нечувствительности к регистру. Оценить время работы\n",
    "каждого алгоритма поиска и сравнить его со временем работы стандартной\n",
    "функции поиска, используемой в выбранном языке программирования.\n",
    "Алгоритмы:\n",
    "##### 1.Кнута-Морриса-Пратта"
   ]
  },
  {
   "cell_type": "code",
   "execution_count": 7,
   "id": "raised-connecticut",
   "metadata": {},
   "outputs": [],
   "source": [
    "class search1:\n",
    "    def __init__(self, strr):\n",
    "        self.str=strr.replace(' ','') # удаление пробелов между символами\n",
    "        self.strprob=strr\n",
    "        self.strregistr=self.str.lower() #пренебрежением регистра\n",
    "\n",
    "    #создание префиксной функции\n",
    "    def prefix(self, podstr):\n",
    "        length_podstr=len(podstr)\n",
    "        p=[0]*length_podstr\n",
    "        p[0]=0\n",
    "        k=0\n",
    "        for q in range(1, length_podstr):\n",
    "            while k>0 and (podstr[k] is not podstr[q]):\n",
    "                k=p[k]\n",
    "            if podstr[k]==podstr[q]:\n",
    "                k=k+1\n",
    "            p[q]=k\n",
    "        return p\n",
    "    # \n",
    "    \n",
    "    #поиск чувствительный к регистру\n",
    "    def search(self, podstr):\n",
    "        length_str=len(self.str)\n",
    "        length_podstr=len(podstr)\n",
    "        p=self.prefix(podstr)\n",
    "       # print(\"массив\", *p)\n",
    "        q=0\n",
    "        for i in range(0, length_str):\n",
    "            while q>0 and q<length_podstr and (podstr[q] is not self.str[i]) :\n",
    "                q=p[q]\n",
    "            if podstr[q]==self.str[i]:\n",
    "                q=q+1\n",
    "            if q==length_podstr:\n",
    "                print(\"подстрока найдена:\", i, \" \", length_podstr)\n",
    "                q=p[q-1]\n",
    "                \n",
    "    #поиск чувствительный к регистру и к пробелам\n",
    "    def search(self, podstr):\n",
    "        length_str=len(self.strprob)\n",
    "        length_podstr=len(podstr)\n",
    "        p=self.prefix(podstr)\n",
    "       # print(\"массив\", *p)\n",
    "        q=0\n",
    "        for i in range(0, length_str):\n",
    "            while q>0 and q<length_podstr and (podstr[q] is not self.strprob[i]) :\n",
    "                q=p[q]\n",
    "            if podstr[q]==self.strprob[i]:\n",
    "                q=q+1\n",
    "            if q==length_podstr:\n",
    "                print(\"подстрока найдена:\", i, \" \", length_podstr)\n",
    "                q=p[q-1]\n",
    "                \n",
    "     #поиск не чувствительный к регистру\n",
    "    def searchreg(self, podstr):\n",
    "        podstr=podstr.lower()\n",
    "        length_str=len(self.strregistr)\n",
    "        length_podstr=len(podstr)\n",
    "        p=self.prefix(podstr)\n",
    "        #print(\"массив\", *p)\n",
    "        q=0\n",
    "        for i in range(0, length_str):\n",
    "            while q>0 and q<length_podstr and (podstr[q] is not self.strregistr[i]) :\n",
    "                q=p[q]\n",
    "            if podstr[q]==self.strregistr[i]:\n",
    "                q=q+1\n",
    "            if q==length_podstr:\n",
    "                print(\"подстрока найдена:\", i, \" \", length_podstr)\n",
    "                q=p[q-1]"
   ]
  },
  {
   "cell_type": "code",
   "execution_count": 8,
   "id": "homeless-victory",
   "metadata": {},
   "outputs": [
    {
     "name": "stdout",
     "output_type": "stream",
     "text": [
      "введите строкуqwert\n",
      "введите подстрокуqwe\n",
      "подстрока найдена: 2   3\n",
      "подстрока найдена: 2   3\n"
     ]
    }
   ],
   "source": [
    "s=str(input(\"введите строку\"))\n",
    "a=search1(s)\n",
    "m=str(input(\"введите подстроку\"))\n",
    "a.search(m)\n",
    "a.searchreg(m)"
   ]
  },
  {
   "cell_type": "markdown",
   "id": "varied-guitar",
   "metadata": {},
   "source": [
    "##### 2.Упрощенный Бойера-Мура"
   ]
  },
  {
   "cell_type": "code",
   "execution_count": 13,
   "id": "pending-intersection",
   "metadata": {},
   "outputs": [],
   "source": [
    "class search2:\n",
    "    def __init__(self, strr):\n",
    "        self.str=strr.replace(' ','') # удаление пробелов между символами\n",
    "        self.strprob=strr\n",
    "        self.strregistr=self.str.lower()\n",
    "        \n",
    "    #создание префиксной функции\n",
    "    def prefix(self, podstr):\n",
    "        length_podstr=len(podstr)\n",
    "        p=[0]*(length_podstr)\n",
    "        k=1\n",
    "        for q in range(0,length_podstr):\n",
    "            p[q]=length_podstr-k\n",
    "            k=k+1\n",
    "            #print(k)\n",
    "        p[length_podstr-1]=length_podstr\n",
    "        return p\n",
    "    # \n",
    "    \n",
    "     #поиск чувствительный к регистру\n",
    "    def search(self, podstr):\n",
    "        podstr=podstr.replace(' ','')\n",
    "        length_str=len(self.str)\n",
    "        length_podstr=len(podstr)\n",
    "        p=self.prefix(podstr)\n",
    "        i=length_podstr-1\n",
    "        j=i\n",
    "        st=0\n",
    "        while i<length_str:\n",
    "            if self.str[i]==podstr[j]:\n",
    "                if(j==0):\n",
    "                    print(\"подстрока найдена\", i, i+length_podstr-1)\n",
    "                    i=i+(p[length_podstr-1]*2)-1\n",
    "                    j=length_podstr-1\n",
    "                else:\n",
    "                    i=i-1\n",
    "                    j=j-1\n",
    "                    \n",
    "            else:\n",
    "                while self.str[i] is not podstr[j]:\n",
    "                    j=j-1;\n",
    "                    if j==-1:\n",
    "                        j=length_podstr-1\n",
    "                        break\n",
    "                i=i+p[j]\n",
    "                j=length_podstr-1    \n",
    "                \n",
    "    # поиск не чувствительный к регистру            \n",
    "    def searchreg(self, podstr):\n",
    "        podstr=podstr.replace(' ','')\n",
    "        podstr=podstr.lower()\n",
    "        length_str=len(self.strregistr)\n",
    "        length_podstr=len(podstr)\n",
    "        p=self.prefix(podstr)\n",
    "        i=length_podstr-1\n",
    "        j=i\n",
    "        st=0\n",
    "        while i<length_str:\n",
    "            if self.strregistr[i]==podstr[j]:\n",
    "                if(j==0):\n",
    "                    print(\"подстрока найдена\", i, i+length_podstr-1)\n",
    "                    i=i+(p[length_podstr-1]*2)-1\n",
    "                    j=length_podstr-1\n",
    "                else:\n",
    "                    i=i-1\n",
    "                    j=j-1\n",
    "                    \n",
    "            else:\n",
    "                while self.strregistr[i] is not podstr[j]:\n",
    "                    j=j-1;\n",
    "                    if j==-1:\n",
    "                        j=length_podstr-1\n",
    "                        break\n",
    "                i=i+p[j]\n",
    "                j=length_podstr-1   \n",
    "                \n",
    "                \n",
    "                \n",
    "                \n",
    "         # поиск чувствительный к пробелам            \n",
    "    def searchprob(self, podstr):\n",
    "        length_str=len(self.strprob)\n",
    "        length_podstr=len(podstr)\n",
    "        p=self.prefix(podstr)\n",
    "        i=length_podstr-1\n",
    "        j=i\n",
    "        st=0\n",
    "        while i<length_str:\n",
    "            if self.strprob[i]==podstr[j]:\n",
    "                if(j==0):\n",
    "                    print(\"подстрока найдена\", i, i+length_podstr-1)\n",
    "                    i=i+(p[length_podstr-1]*2)-1\n",
    "                    j=length_podstr-1\n",
    "                else:\n",
    "                    i=i-1\n",
    "                    j=j-1\n",
    "                    \n",
    "            else:\n",
    "                while self.strprob[i] is not podstr[j]:\n",
    "                    j=j-1;\n",
    "                    if j==-1:\n",
    "                        j=length_podstr-1\n",
    "                        break\n",
    "                i=i+p[j]\n",
    "                j=length_podstr-1   "
   ]
  },
  {
   "cell_type": "code",
   "execution_count": 19,
   "id": "black-houston",
   "metadata": {},
   "outputs": [
    {
     "name": "stdout",
     "output_type": "stream",
     "text": [
      "подстрока найдена 0 3\n",
      "подстрока найдена 10 13\n"
     ]
    }
   ],
   "source": [
    "s=\"bacbababaabcbab\"\n",
    "a=search2(\"b acbababaaBacb\")\n",
    "#a.search(\"bacb\")\n",
    "a.searchreg(\"bacb\")\n",
    "#a.searchprob(\"b acb\")"
   ]
  },
  {
   "cell_type": "markdown",
   "id": "ruled-acquisition",
   "metadata": {},
   "source": [
    "# Задание 2 «Пятнашки» "
   ]
  },
  {
   "cell_type": "code",
   "execution_count": 18,
   "id": "federal-allah",
   "metadata": {},
   "outputs": [
    {
     "name": "stdout",
     "output_type": "stream",
     "text": [
      "False\n"
     ]
    }
   ],
   "source": [
    "import math\n",
    "def search_resh(mass): # Проверка существуюет ли решение \n",
    "    summ=int(0)\n",
    "    for i in range(len(mass)):\n",
    "        for j in range(i, len(mass)):\n",
    "            if mass[i]==0:\n",
    "                summ=summ+math.floor(i/4)\n",
    "            elif mass[i]>mass[j]:\n",
    "                summ=summ+1\n",
    "    if summ%2==0:\n",
    "        return True\n",
    "    return False\n",
    "#\n",
    "\"\"\"def search(mass):\n",
    "    if search_resh(mass):\n",
    "        \n",
    "    else:\n",
    "        return []\"\"\"\n",
    "mass=[15,2,1,12,8,5,6,11,4,9,10,7,3,14,13]\n",
    "print(search_resh(mass))\n",
    "                "
   ]
  },
  {
   "cell_type": "code",
   "execution_count": 21,
   "id": "approximate-criticism",
   "metadata": {},
   "outputs": [
    {
     "name": "stdout",
     "output_type": "stream",
     "text": [
      "2\n"
     ]
    }
   ],
   "source": [
    "a=int(9)\n",
    "print(math.floor(a/4))"
   ]
  },
  {
   "cell_type": "code",
   "execution_count": null,
   "id": "crude-shareware",
   "metadata": {},
   "outputs": [],
   "source": []
  }
 ],
 "metadata": {
  "kernelspec": {
   "display_name": "Python 3",
   "language": "python",
   "name": "python3"
  },
  "language_info": {
   "codemirror_mode": {
    "name": "ipython",
    "version": 3
   },
   "file_extension": ".py",
   "mimetype": "text/x-python",
   "name": "python",
   "nbconvert_exporter": "python",
   "pygments_lexer": "ipython3",
   "version": "3.9.1"
  }
 },
 "nbformat": 4,
 "nbformat_minor": 5
}
