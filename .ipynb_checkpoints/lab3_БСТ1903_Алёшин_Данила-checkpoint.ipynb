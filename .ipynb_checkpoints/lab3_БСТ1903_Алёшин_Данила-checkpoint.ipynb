{
 "cells": [
  {
   "cell_type": "markdown",
   "id": "light-malta",
   "metadata": {},
   "source": [
    "# Задание 1\n",
    "Реализовать методы поиска подстроки в строке. Добавить возможность\n",
    "ввода строки и подстроки с клавиатуры. Предусмотреть возможность\n",
    "существования пробела. Реализовать возможность выбора опции\n",
    "чувствительности или нечувствительности к регистру. Оценить время работы\n",
    "каждого алгоритма поиска и сравнить его со временем работы стандартной\n",
    "функции поиска, используемой в выбранном языке программирования.\n",
    "Алгоритмы:\n",
    "##### 1.Кнута-Морриса-Пратта"
   ]
  },
  {
   "cell_type": "code",
   "execution_count": 74,
   "id": "raised-connecticut",
   "metadata": {},
   "outputs": [],
   "source": [
    "class search1:\n",
    "    def __init__(self, strr):\n",
    "        self.str=strr.replace(' ','') # удаление пробелов между символами\n",
    "        self.strregistr=self.str.lower() #пренебрежением регистра\n",
    "    \n",
    "    #создание префиксной функции\n",
    "    def prefix(self, podstr):\n",
    "        length_podstr=len(podstr)\n",
    "        p=[0]*length_podstr\n",
    "        p[0]=0\n",
    "        k=0\n",
    "        for q in range(1, length_podstr):\n",
    "            while k>0 and (podstr[k] is not podstr[q]):\n",
    "                k=p[k]\n",
    "            if podstr[k]==podstr[q]:\n",
    "                k=k+1\n",
    "            p[q]=k\n",
    "        return p\n",
    "    # \n",
    "    \n",
    "    #поиск чувствительный к регистру\n",
    "    def search(self, podstr):\n",
    "        length_str=len(self.str)\n",
    "        length_podstr=len(podstr)\n",
    "        p=self.prefix(podstr)\n",
    "        print(\"массив\", *p)\n",
    "        q=0\n",
    "        for i in range(0, length_str):\n",
    "            while q>0 and q<length_podstr and (podstr[q] is not self.str[i]) :\n",
    "                q=p[q]\n",
    "            if podstr[q]==self.str[i]:\n",
    "                q=q+1\n",
    "            if q==length_podstr:\n",
    "                print(\"подстрока найдена:\", i, \" \", length_podstr)\n",
    "                q=p[q-1]\n",
    "                \n",
    "     #поиск не чувствительный к регистру\n",
    "    def searchreg(self, podstr):\n",
    "        podstr=podstr.lower()\n",
    "        length_str=len(self.strregistr)\n",
    "        length_podstr=len(podstr)\n",
    "        p=self.prefix(podstr)\n",
    "        print(\"массив\", *p)\n",
    "        q=0\n",
    "        for i in range(0, length_str):\n",
    "            while q>0 and q<length_podstr and (podstr[q] is not self.strregistr[i]) :\n",
    "                q=p[q]\n",
    "            if podstr[q]==self.strregistr[i]:\n",
    "                q=q+1\n",
    "            if q==length_podstr:\n",
    "                print(\"подстрока найдена:\", i, \" \", length_podstr)\n",
    "                q=p[q-1]"
   ]
  },
  {
   "cell_type": "code",
   "execution_count": 79,
   "id": "homeless-victory",
   "metadata": {},
   "outputs": [
    {
     "name": "stdout",
     "output_type": "stream",
     "text": [
      "массив 0 0 1 2 3\n",
      "массив 0 0 1 2 3\n",
      "подстрока найдена: 8   5\n"
     ]
    }
   ],
   "source": [
    "s=\"bacbababaabcbab\"\n",
    "a=search1(\"bacbabaBaabcbab\")\n",
    "a.search(\"ababa\")\n",
    "a.searchreg(\"abaBa\")"
   ]
  },
  {
   "cell_type": "markdown",
   "id": "varied-guitar",
   "metadata": {},
   "source": [
    "##### 2.Упрощенный Бойера-Мура"
   ]
  },
  {
   "cell_type": "code",
   "execution_count": 133,
   "id": "pending-intersection",
   "metadata": {},
   "outputs": [],
   "source": [
    "class search2:\n",
    "    def __init__(self, strr):\n",
    "        self.str=strr.replace(' ','') # удаление пробелов между символами\n",
    "        self.strregistr=self.str.lower()\n",
    "        \n",
    "    #создание префиксной функции\n",
    "    def prefix(self, podstr):\n",
    "        length_podstr=len(podstr)\n",
    "        p=[0]*(length_podstr)\n",
    "        k=1\n",
    "        for q in range(0,length_podstr):\n",
    "            p[q]=length_podstr-k\n",
    "            k=k+1\n",
    "            print(k)\n",
    "        p[length_podstr-1]=length_podstr\n",
    "        return p\n",
    "    # \n",
    "    \n",
    "     #поиск чувствительный к регистру\n",
    "    def search(self, podstr):\n",
    "        length_str=len(self.str)\n",
    "        length_podstr=len(podstr)\n",
    "        p=self.prefix(podstr)\n",
    "        #print(\"массив\", *p)\n",
    "        q=0\n",
    "        i=length_podstr-1\n",
    "        j=length_podstr-1\n",
    "        st=0\n",
    "        while i<length_str:\n",
    "            #print(\"зашел в цикл 1\")\n",
    "            if self.str[i]==podstr[j]:\n",
    "                if(j==0):\n",
    "                    print(\"подстрока найдена\", i, i+length_podstr-1)\n",
    "                    i=i+(p[length_podstr-1]*2)-1\n",
    "                    j=length_podstr-1\n",
    "                    #print(i)\n",
    "                else:\n",
    "                    #print(\"зашел в else\")\n",
    "                    #print(self.str[i], podstr[j])\n",
    "                    i=i-1\n",
    "                    j=j-1\n",
    "                    #print(self.str[i], podstr[j])\n",
    "                    \n",
    "            else:\n",
    "                q=j\n",
    "                while self.str[i] is not podstr[j]:\n",
    "                   # print(\"зашел в цикл 2\")\n",
    "                    j=j-1;\n",
    "                    if j==-1:\n",
    "                        j=length_podstr-1\n",
    "                        #print(\"break\")\n",
    "                        break\n",
    "                #print(podstr[j], podstr[q])\n",
    "                #print(\"прибавить\", p[j])\n",
    "                #print(\"i==\", i)\n",
    "                i=i+p[j]\n",
    "                j=length_podstr-1\n",
    "                #print(i)\n",
    "                \n",
    "\n",
    "                \n",
    "    "
   ]
  },
  {
   "cell_type": "code",
   "execution_count": 134,
   "id": "black-houston",
   "metadata": {},
   "outputs": [
    {
     "name": "stdout",
     "output_type": "stream",
     "text": [
      "2\n",
      "3\n",
      "4\n",
      "5\n",
      "подстрока найдена 0 3\n",
      "подстрока найдена 10 13\n"
     ]
    }
   ],
   "source": [
    "s=\"bacbababaabcbab\"\n",
    "a=search2(\"bacbababaabacb\")\n",
    "a.search(\"bacb\")\n"
   ]
  },
  {
   "cell_type": "code",
   "execution_count": null,
   "id": "internal-supply",
   "metadata": {},
   "outputs": [],
   "source": [
    " #поиск не чувствительный к регистру\n",
    "    def searchreg(self, podstr):\n",
    "        podstr=podstr.lower()\n",
    "        length_str=len(self.strregistr)\n",
    "        length_podstr=len(podstr)\n",
    "        p=self.prefix(podstr)\n",
    "        print(\"массив\", *p)\n",
    "        q=0\n",
    "        for i in range(0, length_str):\n",
    "            while q>0 and q<length_podstr and (podstr[q] is not self.strregistr[i]) :\n",
    "                q=p[q]\n",
    "            if podstr[q]==self.strregistr[i]:\n",
    "                q=q+1\n",
    "            if q==length_podstr:\n",
    "                print(\"подстрока найдена:\", i, \" \", length_podstr)\n",
    "                q=p[q-1]"
   ]
  }
 ],
 "metadata": {
  "kernelspec": {
   "display_name": "Python 3",
   "language": "python",
   "name": "python3"
  },
  "language_info": {
   "codemirror_mode": {
    "name": "ipython",
    "version": 3
   },
   "file_extension": ".py",
   "mimetype": "text/x-python",
   "name": "python",
   "nbconvert_exporter": "python",
   "pygments_lexer": "ipython3",
   "version": "3.9.1"
  }
 },
 "nbformat": 4,
 "nbformat_minor": 5
}
