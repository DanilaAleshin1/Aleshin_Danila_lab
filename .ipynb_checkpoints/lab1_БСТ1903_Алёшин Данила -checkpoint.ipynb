{
 "cells": [
  {
   "cell_type": "markdown",
   "id": "foster-hollow",
   "metadata": {},
   "source": [
    "# Лабораторная работа №1\n",
    "## Выполнил студент группы БСТ1903 Алёшин Данила\n",
    "### Задание №1\n",
    "1. Создать Jupyter Notebook со следующим наименованием: Lab1_Группа_ФИО\n",
    "2. Создать новую ячейку с помощью кнопки\n",
    "3. В созданной ячейке по указанной ниже форме заполните оглавление файла, заменив наименование группы и вписав свое ФИО, Рисунок 1 - Форма оглавления файла в ячейке после чего создайте еще одну ячейку и напишите следующий код:\n",
    "4. С помощью кнопки запустите выполнение всех ячеек.\n",
    "5. После выполнения у вас должна отформатироваться ячейка с оглавлением и должен выполниться “Hello, World!”"
   ]
  },
  {
   "cell_type": "code",
   "execution_count": 3,
   "id": "powerful-glossary",
   "metadata": {},
   "outputs": [
    {
     "name": "stdout",
     "output_type": "stream",
     "text": [
      "Hello, World!\n"
     ]
    }
   ],
   "source": [
    "print(\"Hello, World!\")"
   ]
  },
  {
   "cell_type": "markdown",
   "id": "renewable-timber",
   "metadata": {},
   "source": [
    "### Задание №2\n",
    "Написать генератор случайных матриц(многомерных), который принимает опциональные параметры m, n, min_limit, max_limit, где m и n указывают размер матрицы, а min_lim и max_lim - минимальное и максимальное значение для генерируемого числа . По умолчанию при отсутствии параметров принимать следующие значения: m = 50 n = 50 min_limit = -250 max_limit = 1000 + (номер своего варианта)"
   ]
  },
  {
   "cell_type": "code",
   "execution_count": 3,
   "id": "internal-prerequisite",
   "metadata": {},
   "outputs": [],
   "source": [
    "import numpy\n",
    "import time\n",
    "def matrixgenerate():\n",
    "    n=int(input())\n",
    "    m=int(input())\n",
    "    matrixx = numpy.random.random_integers(-250, 1002, size=(n, m))\n",
    "    print(*matrixx)\n",
    "    return matrixx"
   ]
  },
  {
   "cell_type": "markdown",
   "id": "brazilian-blanket",
   "metadata": {},
   "source": [
    "### Задание №3\n",
    "Реализовать методы сортировки строк числовой матрицы в соответствии с заданием. Оценить время работы каждого алгоритма сортировки и сравнить его со временем стандартной функции сортировки. Испытания проводить на сгенерированных матрицах."
   ]
  },
  {
   "cell_type": "markdown",
   "id": "australian-party",
   "metadata": {},
   "source": [
    "Сортировка выбором"
   ]
  },
  {
   "cell_type": "code",
   "execution_count": 5,
   "id": "anonymous-education",
   "metadata": {},
   "outputs": [],
   "source": [
    "def sortviborom(matrixx):\n",
    "    matrline=per(matrixx)\n",
    "    for i in range(0, len(matrline)):\n",
    "        for j in range(i, len(matrline)):\n",
    "            if matrline[i]>matrline[j]:\n",
    "                matrline[i], matrline[j]=matrline[j], matrline[i]     \n",
    "    return vivod(matrixx, matrline)"
   ]
  },
  {
   "cell_type": "markdown",
   "id": "documented-norfolk",
   "metadata": {},
   "source": [
    "Сортировка вставкой"
   ]
  },
  {
   "cell_type": "code",
   "execution_count": 6,
   "id": "precious-detail",
   "metadata": {},
   "outputs": [],
   "source": [
    "def sortvstavkami(matrixx):\n",
    "    matrline=per(matrixx)\n",
    "    for i in range(1, len(matrline)):\n",
    "        j=i-1\n",
    "        while (j>=0) and (matrline[j]>matrline[j+1]):\n",
    "            matrline[j], matrline[j+1]=matrline[j+1], matrline[j]\n",
    "            j=j-1\n",
    "    return vivod(matrixx, matrline)   "
   ]
  },
  {
   "cell_type": "markdown",
   "id": "defensive-clothing",
   "metadata": {},
   "source": [
    "Сортировка обменом"
   ]
  },
  {
   "cell_type": "code",
   "execution_count": 7,
   "id": "olympic-start",
   "metadata": {},
   "outputs": [],
   "source": [
    "def sortobmen(matrixx):\n",
    "    matrline=per(matrixx)\n",
    "    l=len(matrline)\n",
    "    while l>1:\n",
    "        for i in range(l-1):\n",
    "            if matrline[i]>matrline[i+1]:\n",
    "                matrline[i], matrline[i+1]=matrline[i+1], matrline[i]\n",
    "        l=l-1\n",
    "        \n",
    "    return vivod(matrixx, matrline)"
   ]
  },
  {
   "cell_type": "markdown",
   "id": "referenced-architecture",
   "metadata": {},
   "source": [
    "Сортировка Шелла"
   ]
  },
  {
   "cell_type": "code",
   "execution_count": 8,
   "id": "cognitive-device",
   "metadata": {},
   "outputs": [],
   "source": [
    "def shellsort(matrixx):\n",
    "    matrline=per(matrixx)\n",
    "    length=len(matrline)\n",
    "    l=length\n",
    "    while l>0:\n",
    "        for i in range(length-l):\n",
    "            j=i\n",
    "            while j>=0 and matrline[j+l]<matrline[j]:\n",
    "                    matrline[j], matrline[j+l]=matrline[j+l], matrline[j]\n",
    "                    j=j-l\n",
    "        l=int(l/2)\n",
    "    return vivod(matrixx, matrline) "
   ]
  },
  {
   "cell_type": "markdown",
   "id": "facial-brazil",
   "metadata": {},
   "source": [
    "Турнирная сортировка"
   ]
  },
  {
   "cell_type": "code",
   "execution_count": 9,
   "id": "hollywood-abraham",
   "metadata": {},
   "outputs": [],
   "source": [
    "def tyrsort(matrixx):\n",
    "    matrline=per(matrixx)\n",
    "    def _tyrsort(matrline):\n",
    "        tree = [None] * 2 * (len(matrline) + len(matrline) % 2)\n",
    "        index = len(tree) - len(matrline) - len(matrline) % 2\n",
    "        for i, v in enumerate(matrline):\n",
    "            tree[index + i] = (i, v)\n",
    "        for j in range(len(matrline)):\n",
    "            n = len(matrline)\n",
    "            index = len(tree) - len(matrline) - len(matrline) % 2\n",
    "            while index > -1:\n",
    "                n = (n + 1) // 2\n",
    "                for i in range(n):\n",
    "                    i = max(index + i * 2, 1)\n",
    "                    if tree[i] != None and tree[i + 1] != None:\n",
    "                        if tree[i][1] < tree[i + 1][1]:\n",
    "                            tree[i // 2] = tree[i]\n",
    "                        else:\n",
    "                            tree[i // 2] = tree[i + 1]\n",
    "                    else:\n",
    "                        tree[i // 2] = tree[i] if tree[i] != None else tree[i + 1]\n",
    "                index -= n\n",
    "\n",
    "            index, x = tree[0]\n",
    "            matrline[j] = x\n",
    "            tree[len(tree) - len(matrline) - len(matrline) % 2 + index] = None\n",
    "    _tyrsort(matrline)\n",
    "    return vivod(matrixx, matrline) "
   ]
  },
  {
   "cell_type": "markdown",
   "id": "sound-scanner",
   "metadata": {},
   "source": [
    "Быстрая сортировка"
   ]
  },
  {
   "cell_type": "code",
   "execution_count": 10,
   "id": "vocal-cycling",
   "metadata": {},
   "outputs": [],
   "source": [
    "def qs(matrixx):\n",
    "    matrline=per(matrixx)\n",
    "    def quicksort(matrline, first, last):\n",
    "        i=first\n",
    "        j=last\n",
    "        x=matrline[int((first+last)/2)]\n",
    "        while i<=j:\n",
    "            while matrline[i]<x:\n",
    "                i+=1\n",
    "            while matrline[j]>x:\n",
    "                j-=1\n",
    "            if i<=j:\n",
    "                if matrline[i]>matrline[j]:\n",
    "                    matrline[i], matrline[j]=matrline[j], matrline[i]\n",
    "                i+=1\n",
    "                j-=1\n",
    "        if i<last:\n",
    "            quicksort(matrline, i, last)\n",
    "        if first<j:\n",
    "            quicksort(matrline, first, j)\n",
    "    quicksort(matrline, 0, len(matrline)-1)\n",
    "    return vivod(matrixx, matrline)"
   ]
  },
  {
   "cell_type": "markdown",
   "id": "accepted-richardson",
   "metadata": {},
   "source": [
    "Пирамидальная сортировка"
   ]
  },
  {
   "cell_type": "code",
   "execution_count": 11,
   "id": "collective-forum",
   "metadata": {},
   "outputs": [],
   "source": [
    "def heapSort(matrixx):\n",
    "    matrline=per(matrixx)\n",
    "    def downHeap(matrline, k, n):\n",
    "        el = matrline[k]\n",
    "        while 2*k+1 < n:\n",
    "            child = 2*k+1\n",
    "            if child+1 < n and matrline[child] < matrline[child+1]:\n",
    "                child += 1\n",
    "            if el >= matrline[child]:\n",
    "                break\n",
    "            matrline[k] = matrline[child]\n",
    "            k = child\n",
    "        matrline[k] = el\n",
    "  \n",
    "    size = len(matrline)\n",
    "    for i in range(size//2-1,-1,-1):\n",
    "        downHeap(matrline, i, size)\n",
    "    for i in range(size-1,0,-1):\n",
    "        temp = matrline[i]\n",
    "        matrline[i] = matrline[0]\n",
    "        matrline[0] = temp\n",
    "        downHeap(matrline, 0, i)\n",
    "    return vivod(matrixx, matrline)"
   ]
  },
  {
   "cell_type": "markdown",
   "id": "bibliographic-clearance",
   "metadata": {},
   "source": [
    "Функции для реализации программы"
   ]
  },
  {
   "cell_type": "code",
   "execution_count": 12,
   "id": "representative-headset",
   "metadata": {},
   "outputs": [],
   "source": [
    "def per(matrixx):\n",
    "    n=len(matrixx)\n",
    "    m=len(matrixx[0])\n",
    "    matrline=[0]*(n*m)\n",
    "    x=int(0)\n",
    "    for i in range(0, n):\n",
    "        for j in range(0, m):\n",
    "            matrline[x]=matrixx[i][j]\n",
    "            x=x+1\n",
    "    return matrline\n",
    "\n",
    "def vivod(matrixx, matrline):\n",
    "    n=len(matrixx)\n",
    "    m=len(matrixx[0])\n",
    "    x=int(0)\n",
    "    matrix=[[0] * m for i in range(n)]\n",
    "    for i in range(0, n):\n",
    "        for j in range(0, m):\n",
    "            matrix[i][j]=matrline[x]\n",
    "            x=x+1\n",
    "    return matrix "
   ]
  },
  {
   "cell_type": "markdown",
   "id": "found-exposure",
   "metadata": {},
   "source": [
    "Вывод"
   ]
  },
  {
   "cell_type": "code",
   "execution_count": 15,
   "id": "useful-merit",
   "metadata": {},
   "outputs": [
    {
     "name": "stdout",
     "output_type": "stream",
     "text": [
      "50\n",
      "50\n"
     ]
    },
    {
     "name": "stderr",
     "output_type": "stream",
     "text": [
      "<ipython-input-4-eeea6d652fff>:6: DeprecationWarning: This function is deprecated. Please call randint(-250, 1002 + 1) instead\n",
      "  matrixx = numpy.random.random_integers(-250, 1002, size=(n, m))\n"
     ]
    },
    {
     "name": "stdout",
     "output_type": "stream",
     "text": [
      "[ 509  161  125  897  867  877   25  871  606 -166  258 -188  631  620\n",
      "  910  -89  964  299  366  863  402  960  215  286 -182  916  308  474\n",
      "  654  883  530  284  797 -214  696  522  730  351  901 -190  605 -184\n",
      "  -10  -82 -107  396  -22  895  498 -214] [ 260  521  632  953 -204  671  695  965  984  239  426  348  134  299\n",
      "  369  825  249  304  -50    6  -30  724  450  956  708  499  544  952\n",
      "  822  752  989   71  490   86  537  620  723  639  180 -188  956  394\n",
      "  833  378  702  -83  562   77  -11  567] [ 727 -135 -161  -98  243  692   33  478  -49  403  -58  960  719  181\n",
      "   36  625  502  465  731   65  108   69  615  789  726    5 -183  -12\n",
      " -153  740  -12  596  205  314  375  604  721  292  -28   -9 -239  607\n",
      "  303  -16  877  289  700  211  928  403] [ -35  102 -202  -99  696  855  696 -202  582  581  858  363  938  319\n",
      "  295 -131   69  788  804  371  791  819  797  342 -139  813  603  494\n",
      "   66  763  362  -71  723  980  854  993   71 -240  986  863  476  907\n",
      "  897  696  410  489  172  405  743  253] [ 408  860  379    9   38  195  120  761  545  394    3  707   62  754\n",
      "  -49  984  631  -24  496  773  161  964  449  246  970  383  229  824\n",
      "  978 -211  945  398 -104  222  549  113  118  131  914  120  279  529\n",
      "  362  613  936  248  -72  238  275  975] [ 959  323  664   76  278  296  589  831 -223  148  487  764 -246  771\n",
      "  434   18 -232  945 -239  343  424  377   28  469  -54  536  455 -142\n",
      "  600  863  638  118  962  615  439  -56  839  789  655  387  568  389\n",
      "  -83  584 -248  212 -150  114    0  519] [ 256  577  415  136  491  -76  599  471  934  382  249   48   35 -179\n",
      "  438  783  686 -249   29  953  -65   86 -195   39 1001 -236  992  991\n",
      "  348  964  345  106  454  162  238  233  862  436  -32 -113 -221   32\n",
      "  538  184  683  -13  464   26  -50  424] [ 762  915  -63  514  691  405  630  831  105  188  659   96  322 -122\n",
      "  250 -148  797  952  666  193 -225  630  962  840  172  271  774  529\n",
      "  116 -194 -163  725  205  726  -76  806  740  157   30  860 -173  191\n",
      "  727  379  128 -128  466  382  721  -99] [ -69  802  361  979  -27  361  184 -223  291  999  754  802  127  902\n",
      "  663  619  678  336  282  817  861  -17  283  206  902  698  779  295\n",
      "  460 -167  168  708  -94 -139  832  395  424   13  954  894  -82  866\n",
      " -224  804 -132  802  -71  745  509  -96] [ 939  388  846 -206  438  681  313  408 -247  167  233  804  630  925\n",
      "  563 -244  307  688  573  676 -194 -138  252  866  709  265  805  290\n",
      "  964  827  695  261  451 -124  267 -109 -203  713  913  179  410  624\n",
      "  232   59  221  313  782  498  372  576] [ 878  262  801  -64  -15  764  -16  881 -103  374  -28  519  -75    4\n",
      "  -21  310  218  716  799   49  223  252  490   83 -231  457  672  953\n",
      "  245  490  412  528  626  318  -11  551  360  -77  -88 -225  679  206\n",
      "  805  -32 -150  815  622  489  607  -40] [ 512  856  990   69  951  -68  763  396 -249  540  944  362  283  338\n",
      "  908 -202  631  585  545  545  -89  548   93  865  252  524   27  415\n",
      "  803 -147  375  605  987  908  524  141  713  595 -146  -75  623  574\n",
      "  833  643  262  305  152 -224 -132  795] [ 779  664  909  268  992  103  490 -143 -102  495  -90  147 -163  -24\n",
      "  -40  512   32  201  493  929  571  523  812 -192   54  417  650  977\n",
      "   37  380   57  405  879  643  359   15  414  595 -193  840   68  865\n",
      " -136  176  836  115  128  546   31  214] [ 293  632   -1  454  174  767  470  210 -183  935 -120  898  427  533\n",
      "  532  486 -222  523  496  722  950  814   12   36  267  447  897  456\n",
      "  533  785  112   66   57 -233  423  -75  852  120  841   69  186  -85\n",
      " -131  134 -108  884  258  477  502  208] [ -42  930  528   91   24  -96  432  918  -82  203    1   48  379  343\n",
      "  840 -205  728 -212  -27 -187    5   53  433  826  927  939  191  102\n",
      "  875  424 -108  877  131  432  -94  987  301  517  631  802  480  405\n",
      "  611  689  677  283  -77  415 -169 -185] [ 923  360  455 -216  -44  565  612  380  537  376 -168  977  903 -148\n",
      "  475  167  802  210  762  269  391  532  926  924  618  484  515  444\n",
      "  162  275  871  664  101 -226  403  190    8  578  122  492  -11   54\n",
      "  431   45  493  -62  703  799  446  704] [ 449  711 -223  486  496  415  714  -25  423  474 -218  815  971  331\n",
      "  875   29  489  576  143  604  381  640  632 -229  464  270  991  -69\n",
      "  340  374  466  727  654  310  502  162  945  479  325  616  622  577\n",
      " -186  747  246  -46  187  146 -197  439] [ 218   36 -179  585  297  161  555  447  581 -167  646  125  -47  552\n",
      "  945  934  -67  244  128  807  204  668  905 -163  977  827  917  -33\n",
      "  303  173  -74  203  355  261  501  147  235  344  456  443  727 -147\n",
      "  451 -116   88  193  316  -25  -88  342] [ 507  142  103   75  727  376   93  786  628  595  168  896  469  262\n",
      "  519  961  201  538  262  -87   56  875  285  584  915  859  693 -232\n",
      " -111  148  -21 -186 -155  575  315  559  303  106  211  254  123  917\n",
      "  906  780  857  277  625  594  617  474] [ 132  166 -161  663  421  116  947  -77  494  288  -23  855  -45  705\n",
      "  709   -5  343  770 -203  132  898   87  991 -151  393  773   11  185\n",
      "  432  733  727  793  601  190  101 -249  691  145  931  328 -217  912\n",
      "  -18  323  861  135  -38  945  390  875] [ 654  -89  844  505 1002  851  929  222   98  239  338  515 -189  483\n",
      "  824  175  172  519  748  257  524  219  787 -198  602  -91  223  516\n",
      "  -95  742  807  157  634  674  792  379  640   -6  874   83  337 -164\n",
      "  495  477  -84  890  157   36  493  885] [ 912  507  480  329  761  890  -30  591 -231  369 -184  337  326  736\n",
      "  671  970 -114  478  352  515  589  955  279  161  140   28  940  -38\n",
      "  413  317  421  803  499 -113  443  420  694  -64  883  522  773  111\n",
      "  237 -117   96   44  222  802 -116  787] [ 128 -199  -75  769  628 -168  906  265   86  121  989  906  995  494\n",
      "  417   10  -75  597  266  180  202  590 -155  628  722  679  317  -32\n",
      "  -57  494 -121  753  230  708  520  235  572  471  420 -190  976  884\n",
      "  502  626  136  606   71  977 -249  329] [ 547   90  384  394  857  290  954  306  448  527 -131  547  530  -44\n",
      "  425 -249  624  384  341  290  503 -181    7  906  230  -18  933 -226\n",
      "  463  633  691   62   20  559  744  909 -107  393   12  625  201  284\n",
      "  562  214  642    1  214  860  277 -180] [ 688  711  876  192  -82 -171  203  -32  335  574  -73  412  -61  -57\n",
      "  174  294  286  394  937  203  317  221  436 -244  381 -112  996  429\n",
      "  719  -86  506 1002 -171  347 -108  564  879  147  168  174  -54  -99\n",
      "  -93  156  396  834 -104 -234  487  368] [  46  934   28  119 -223 -235  -56  943  806 -109  358   61  547  652\n",
      "  588  329  -38  803 -215  650  141 1001  -52 -150  979  296  600  976\n",
      "  447 -203  461  817  741  585  862  392  147  558  722  924  250 -203\n",
      "  683  333  689  478  417  743  778  279] [ 753  649  429 -162  859  431  407 -198 -212 -139  748  400  686 -145\n",
      "  242  669  441  114  123  592  144  969  596 -156  100  332  -86  503\n",
      "  867  870  173  688  766  888  502  349  943   52  435   35 -207  183\n",
      "  792  594  906   60   11 -168  317  210] [ 575  365  897  810  209  903  391  694   19  326  937  907 -149  744\n",
      " -224 -216  -48  425  399  471  257 -224  708  411  146  906  -34  405\n",
      "  718  461  450  646  317  134   38  -56  256  734  -15  747  230 -151\n",
      "  940  288   58  921  630  870  -84  109] [ 745 -117  333  405  622  681  560  700  106  817  308  561  135  350\n",
      "  508  639  956  388   42  835  -30  -82   89  623  983  967  803  596\n",
      "  865  -75  939  938  955 -122  671  -94  194  191  410 -154  303  848\n",
      "   -8 -218  409  186  837  400  276  334] [ 700  467  677  306  276  592  265  737   47  429  550  819  928  136\n",
      "  773  828  105  140  636 -158  240  443   61  156  442 -228  277  205\n",
      "  990  454  448  210  420  821  969  897  602  839  372   89   80 -170\n",
      "  569  911  264  522  808 -201 -223  209] [ 774  164  547 -207  844  847   38  678   92  163 -134  901  -76  949\n",
      "  524  750  776  601  829  748  857  391  403  869 -192 -101   23  355\n",
      "  948   42 -136  899   23  336  274 -226    9  303  566  256  750  146\n",
      "  -99  213  373  521   28  459  128 -226] [ 974  207 -147  235  670  876 -209  694  829  155  883  540  350  756\n",
      "  783  331   18 -132  632  640  725 -112  646  136  159  584  657  190\n",
      "  234 -127 -183   -6  -15  613  621    7 -136  834  746  580  294  -92\n",
      "  631  961   -6  418  581  937  497  810] [ 753  594  936  368  345  488  802  833   31 1002  587  490  902  549\n",
      "  198  595  613  116 -161  -59  116  301 -135  652  -20  194  162  665\n",
      "  673 -106  306  834  -33  497  854  774  783  230  590  222  119  191\n",
      "  571   79  799  -15  428  205  762  550] [ 187  522    3  881   84  707  765  217  465  868  547  376  988  879\n",
      "   68  562  568  872  754 1000  792  195  866  833  593  -90  167  841\n",
      "   -6  703  665  702  149  369  551  112 -126  232 -220 -207  244  134\n",
      " -213  933 -168 -211  123  942  851  557] [ 874  170  296  885  870  433   27  664  842  396  857  911  816  118\n",
      "  520  657  757  585  625  -42  624  307   -3  642  764  978  655  592\n",
      "  681  354  672  598  902  -69 -106  200 -112 -132 -149  699  104  374\n",
      " -214  228  927   61  727   29   24  310] [  90  300   11  741  726  668  220 -164  791  872  799  706    7  -34\n",
      "  156 -246   85   79  158 -146  361  481  178  167  719  362  993  788\n",
      "  602 -115 -245  977  802  636  649  642  371  637  578   42 -171  769\n",
      "  884  288  656  846  663  799   89  701] [  60  142  487  596 -125  -31  713  -38  758  739  990  619 -153  -81\n",
      "  345  822  434  677 -175  -50  573  235  735   97  694  746    6  436\n",
      "  -48  442 -248   27 -248  320   20  237  897   54  124  354 -168  570\n",
      "  647  902  924  283  930  592  731  184] [ 562  851  649 -235  332  944  262  770  610 -245  308  725  788  653\n",
      "  975  739  422   18  420  947  159  119  507  977  -58   63  348  668\n",
      "  360  726  -23  224  762  506  902 1001  536  -36 -140  530 -220 -161\n",
      "  995  593  716 -234  603  806  727  370] [ 418  505  148   57   33  180  624  808  -35  793  -25  789  325  387\n",
      "  -36  659  273   45  -56  371 -234  752 -146  902  328  396  133  992\n",
      " -130  750  579 1000   82 -221  689  -27  818  707  -92  394  318  397\n",
      "  987  978 -118  374  575  -40  299  -83] [  61  258   61  829  229  875  128  798  207  142  940  767 -204  -89\n",
      "  772  139 -107 -105 -111 -226   22 -126  300 -193   24  204  571  574\n",
      "  576  247 -101 -210  473 -173  729  892  855 -213 -142   66  -83  715\n",
      " -245  413  577  983  118  155  956 -132] [ 133 -126  723 -128 -210  639  -88  851 -191  302  680   23 -108  -88\n",
      "  -87  473 -108  840  -48  360  408 -166 -108 -216 -183 -131  878  618\n",
      "  735  550  447  661  604    9  794  655  986  125  -43  768   90  405\n",
      "  500  891  853  986  619 -235  957    3] [ 697  337  130  955  217  -25  561  -34   44  783   -7  925  110  655\n",
      "  336  126 -200   71  690  499  143  874  259  -85  824  306  670  146\n",
      " -104  -93  330 -130  653  -10   43  453  545  300 -152   66  933  705\n",
      "   50  695  258 -112  -87   71  341  182] [  53 -235   83  101  965  323 -232  600  201  706  946   98  918  516\n",
      "  310  100  118  874 -195  367  907 -228 -114  357  429  915  899  912\n",
      " -207  339  452   73  -24  -51  666  941  -77  112  649    7  289  961\n",
      "  465  649  495  353   36  294  564  748] [ 986   -7 -235  193  893  891  399  613  721  156  498  498  770  544\n",
      "  257  815 -217  530  928  592  333  546  802  156  333  127  897  228\n",
      "  421 -170  714  584  847   13  662  481  315  690  847   70   63  282\n",
      "  738  231  -65  983  -95    3  751  451] [ 898 -139  486  435  815  -82  860  988  930  783   32  220  461  914\n",
      "  -28  775  853  215  395 -138   24  237  559  834  129  623 -185 -137\n",
      "  437  221  263  462  382  734 -188  798  -27  -63  291  869 -209  992\n",
      "  942  238  646  422   19  385 -172  158] [ 686  919  487  581  258  992  660  322  217  -30   77  400  322  871\n",
      " -144   23  334 -149  -82  290   -7  213  731  540  114  151  639  363\n",
      "   11   17  122  -18  389  500  257  442  939 -194  406  709   52  856\n",
      "  540  834 -164  907  901  487  894  712] [ 902  494 -238 -105  212  676  615  549  646 -225 -199  459   62  107\n",
      "  176  628 -135  829  996  969  551  194  778  383  841  177 -177  395\n",
      "  -42   25  998 -111   92  104  904  172  -63  196  390   45  294  804\n",
      "  686  962  553  430  362  573  208  538] [ 831  527  191  334  773  674 -143   38  529  294  864 -157  -99  -21\n",
      " -185  460   51   87  910  649   66  345  -24   44  240  161  663  402\n",
      "  387  278  760  480 -230  447 -192  148  878  804  794  -41  375 -129\n",
      "  323  936 -238  199  477 -206 -162   95] [-125  149  852  500 -148 -231  105  627 -203  -34  357 -218  278  919\n",
      "  621  759 -104  442   79  921 -201  479  299  785  838  424  492  443\n",
      "  822   -3   -3  -70  892  -36  541  387  724  691   32  838  462  622\n",
      "  790  326  348  196  -35  591  517  378] [ 668   11  383  954  380  815  788  714  473  150   79   66  432   54\n",
      "  409   46  528   96 -106  251  -55  835   22  469  558  315  -50   37\n",
      "  585  943  885  274  186  358  198 -178  582  788  840  448  608  926\n",
      " -140  933  279  -72 -180  579  440  210]\n"
     ]
    },
    {
     "ename": "TypeError",
     "evalue": "cannot unpack non-iterable NoneType object",
     "output_type": "error",
     "traceback": [
      "\u001b[1;31m---------------------------------------------------------------------------\u001b[0m",
      "\u001b[1;31mTypeError\u001b[0m                                 Traceback (most recent call last)",
      "\u001b[1;32m<ipython-input-15-b0ae9ad94519>\u001b[0m in \u001b[0;36m<module>\u001b[1;34m\u001b[0m\n\u001b[0;32m     40\u001b[0m \u001b[1;31m#Турнирная сортировка\u001b[0m\u001b[1;33m\u001b[0m\u001b[1;33m\u001b[0m\u001b[1;33m\u001b[0m\u001b[0m\n\u001b[0;32m     41\u001b[0m \u001b[0mtimerStart\u001b[0m \u001b[1;33m=\u001b[0m \u001b[0mtime\u001b[0m\u001b[1;33m.\u001b[0m\u001b[0mperf_counter\u001b[0m\u001b[1;33m(\u001b[0m\u001b[1;33m)\u001b[0m\u001b[1;33m\u001b[0m\u001b[1;33m\u001b[0m\u001b[0m\n\u001b[1;32m---> 42\u001b[1;33m \u001b[0mmatrix4\u001b[0m\u001b[1;33m=\u001b[0m\u001b[0mtyrsort\u001b[0m\u001b[1;33m(\u001b[0m\u001b[0mmatrixx\u001b[0m\u001b[1;33m)\u001b[0m\u001b[1;33m\u001b[0m\u001b[1;33m\u001b[0m\u001b[0m\n\u001b[0m\u001b[0;32m     43\u001b[0m \u001b[0mtimerEnd\u001b[0m \u001b[1;33m=\u001b[0m \u001b[0mtime\u001b[0m\u001b[1;33m.\u001b[0m\u001b[0mperf_counter\u001b[0m\u001b[1;33m(\u001b[0m\u001b[1;33m)\u001b[0m\u001b[1;33m\u001b[0m\u001b[1;33m\u001b[0m\u001b[0m\n\u001b[0;32m     44\u001b[0m \u001b[0mtimer6\u001b[0m \u001b[1;33m=\u001b[0m \u001b[0mtimerEnd\u001b[0m \u001b[1;33m-\u001b[0m \u001b[0mtimerStart\u001b[0m\u001b[1;33m\u001b[0m\u001b[1;33m\u001b[0m\u001b[0m\n",
      "\u001b[1;32m<ipython-input-9-2b8cb509092c>\u001b[0m in \u001b[0;36mtyrsort\u001b[1;34m(matrixx)\u001b[0m\n\u001b[0;32m     25\u001b[0m             \u001b[0mmatrline\u001b[0m\u001b[1;33m[\u001b[0m\u001b[0mj\u001b[0m\u001b[1;33m]\u001b[0m \u001b[1;33m=\u001b[0m \u001b[0mx\u001b[0m\u001b[1;33m\u001b[0m\u001b[1;33m\u001b[0m\u001b[0m\n\u001b[0;32m     26\u001b[0m             \u001b[0mtree\u001b[0m\u001b[1;33m[\u001b[0m\u001b[0mlen\u001b[0m\u001b[1;33m(\u001b[0m\u001b[0mtree\u001b[0m\u001b[1;33m)\u001b[0m \u001b[1;33m-\u001b[0m \u001b[0mlen\u001b[0m\u001b[1;33m(\u001b[0m\u001b[0mmatrline\u001b[0m\u001b[1;33m)\u001b[0m \u001b[1;33m-\u001b[0m \u001b[0mlen\u001b[0m\u001b[1;33m(\u001b[0m\u001b[0mmatrline\u001b[0m\u001b[1;33m)\u001b[0m \u001b[1;33m%\u001b[0m \u001b[1;36m2\u001b[0m \u001b[1;33m+\u001b[0m \u001b[0mindex\u001b[0m\u001b[1;33m]\u001b[0m \u001b[1;33m=\u001b[0m \u001b[1;32mNone\u001b[0m\u001b[1;33m\u001b[0m\u001b[1;33m\u001b[0m\u001b[0m\n\u001b[1;32m---> 27\u001b[1;33m     \u001b[0m_tyrsort\u001b[0m\u001b[1;33m(\u001b[0m\u001b[0mmatrline\u001b[0m\u001b[1;33m)\u001b[0m\u001b[1;33m\u001b[0m\u001b[1;33m\u001b[0m\u001b[0m\n\u001b[0m\u001b[0;32m     28\u001b[0m     \u001b[1;32mreturn\u001b[0m \u001b[0mvivod\u001b[0m\u001b[1;33m(\u001b[0m\u001b[0mmatrixx\u001b[0m\u001b[1;33m,\u001b[0m \u001b[0mmatrline\u001b[0m\u001b[1;33m)\u001b[0m\u001b[1;33m\u001b[0m\u001b[1;33m\u001b[0m\u001b[0m\n",
      "\u001b[1;32m<ipython-input-9-2b8cb509092c>\u001b[0m in \u001b[0;36m_tyrsort\u001b[1;34m(matrline)\u001b[0m\n\u001b[0;32m     22\u001b[0m                 \u001b[0mindex\u001b[0m \u001b[1;33m-=\u001b[0m \u001b[0mn\u001b[0m\u001b[1;33m\u001b[0m\u001b[1;33m\u001b[0m\u001b[0m\n\u001b[0;32m     23\u001b[0m \u001b[1;33m\u001b[0m\u001b[0m\n\u001b[1;32m---> 24\u001b[1;33m             \u001b[0mindex\u001b[0m\u001b[1;33m,\u001b[0m \u001b[0mx\u001b[0m \u001b[1;33m=\u001b[0m \u001b[0mtree\u001b[0m\u001b[1;33m[\u001b[0m\u001b[1;36m0\u001b[0m\u001b[1;33m]\u001b[0m\u001b[1;33m\u001b[0m\u001b[1;33m\u001b[0m\u001b[0m\n\u001b[0m\u001b[0;32m     25\u001b[0m             \u001b[0mmatrline\u001b[0m\u001b[1;33m[\u001b[0m\u001b[0mj\u001b[0m\u001b[1;33m]\u001b[0m \u001b[1;33m=\u001b[0m \u001b[0mx\u001b[0m\u001b[1;33m\u001b[0m\u001b[1;33m\u001b[0m\u001b[0m\n\u001b[0;32m     26\u001b[0m             \u001b[0mtree\u001b[0m\u001b[1;33m[\u001b[0m\u001b[0mlen\u001b[0m\u001b[1;33m(\u001b[0m\u001b[0mtree\u001b[0m\u001b[1;33m)\u001b[0m \u001b[1;33m-\u001b[0m \u001b[0mlen\u001b[0m\u001b[1;33m(\u001b[0m\u001b[0mmatrline\u001b[0m\u001b[1;33m)\u001b[0m \u001b[1;33m-\u001b[0m \u001b[0mlen\u001b[0m\u001b[1;33m(\u001b[0m\u001b[0mmatrline\u001b[0m\u001b[1;33m)\u001b[0m \u001b[1;33m%\u001b[0m \u001b[1;36m2\u001b[0m \u001b[1;33m+\u001b[0m \u001b[0mindex\u001b[0m\u001b[1;33m]\u001b[0m \u001b[1;33m=\u001b[0m \u001b[1;32mNone\u001b[0m\u001b[1;33m\u001b[0m\u001b[1;33m\u001b[0m\u001b[0m\n",
      "\u001b[1;31mTypeError\u001b[0m: cannot unpack non-iterable NoneType object"
     ]
    }
   ],
   "source": [
    "matrixx=matrixgenerate()\n",
    "\n",
    "#Стандартная сортировка\n",
    "timerStart = time.perf_counter()\n",
    "matrline=per(matrixx)\n",
    "matrline=sorted(matrline)\n",
    "matrixstandart=vivod(matrixx, matrline)\n",
    "timerEnd = time.perf_counter()\n",
    "timer1 = timerEnd - timerStart\n",
    "#\n",
    "\n",
    "#Сортировка выбором\n",
    "timerStart = time.perf_counter()\n",
    "matrix=sortviborom(matrixx)\n",
    "timerEnd = time.perf_counter()\n",
    "timer2 = timerEnd - timerStart\n",
    "#\n",
    "\n",
    "#Сортировка вставками\n",
    "timerStart = time.perf_counter()\n",
    "matrix1=sortvstavkami(matrixx)\n",
    "timerEnd = time.perf_counter()\n",
    "timer3 = timerEnd - timerStart\n",
    "#\n",
    "\n",
    "#Сортировка обменом\n",
    "timerStart = time.perf_counter()\n",
    "matrix2=sortobmen(matrixx)\n",
    "timerEnd = time.perf_counter()\n",
    "timer4 = timerEnd - timerStart\n",
    "#\n",
    "\n",
    "#Сортировка Шелла\n",
    "timerStart = time.perf_counter()\n",
    "matrix3=shellsort(matrixx)\n",
    "timerEnd = time.perf_counter()\n",
    "timer5 = timerEnd - timerStart\n",
    "#\n",
    "\n",
    "#Турнирная сортировка\n",
    "timerStart = time.perf_counter()\n",
    "matrix4=tyrsort(matrixx)\n",
    "timerEnd = time.perf_counter()\n",
    "timer6 = timerEnd - timerStart\n",
    "#\n",
    "\n",
    "#Быстрая сортировка\n",
    "timerStart = time.perf_counter()\n",
    "matrix5=qs(matrixx)\n",
    "timerEnd = time.perf_counter()\n",
    "timer7 = timerEnd - timerStart\n",
    "#\n",
    "\n",
    "#Пирамидальная сортировка\n",
    "timerStart = time.perf_counter()\n",
    "matrix6=heapSort(matrixx)\n",
    "timerEnd = time.perf_counter()\n",
    "timer8 = timerEnd - timerStart\n",
    "#\n",
    "print(\"\\nВремя работы стандартной сортировки\", timer1,\"\\nРезультат сортировки\\n\", *matrixstandart)\n",
    "print(\"\\nВремя работы сортировки выбором\", timer2,\"\\nРезультат сортировки\\n\", *matrix)\n",
    "print(\"\\nВремя работы сортировки вставкой\", timer3,\"\\nРезультат сортировки\\n\", *matrix1)\n",
    "print(\"\\nВремя работы сортировки обменом\", timer4,\"\\nРезультат сортировки\\n\", *matrix2)\n",
    "print(\"\\nВремя работы сортировки Шелла\", timer5,\"\\nРезультат сортировки\\n\", *matrix3)\n",
    "print(\"\\nВремя работы турнирной сортировки\", timer6,\"\\nРезультат сортировки\\n\", *matrix4)\n",
    "print(\"\\nВремя работы быстрой сортировки\", timer7,\"\\nРезультат сортировки\\n\", *matrix5)\n",
    "print(\"\\nВремя работы пирамидальной сортировки\", timer8,\"\\nРезультат сортировки\\n\", *matrix6)"
   ]
  },
  {
   "cell_type": "markdown",
   "id": "dominican-delivery",
   "metadata": {},
   "source": [
    "## Вывод:\n",
    "В результате проделанной лабораторной работы мы реализовали генерацию случайной матрицы и изучили методы сортировок матрицы."
   ]
  },
  {
   "cell_type": "code",
   "execution_count": null,
   "id": "acceptable-lewis",
   "metadata": {},
   "outputs": [],
   "source": []
  }
 ],
 "metadata": {
  "kernelspec": {
   "display_name": "Python 3",
   "language": "python",
   "name": "python3"
  },
  "language_info": {
   "codemirror_mode": {
    "name": "ipython",
    "version": 3
   },
   "file_extension": ".py",
   "mimetype": "text/x-python",
   "name": "python",
   "nbconvert_exporter": "python",
   "pygments_lexer": "ipython3",
   "version": "3.9.1"
  }
 },
 "nbformat": 4,
 "nbformat_minor": 5
}
