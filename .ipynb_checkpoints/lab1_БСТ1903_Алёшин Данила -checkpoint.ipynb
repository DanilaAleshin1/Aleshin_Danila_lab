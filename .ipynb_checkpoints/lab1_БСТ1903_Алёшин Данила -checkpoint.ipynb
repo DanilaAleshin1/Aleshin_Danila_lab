{
 "cells": [
  {
   "cell_type": "markdown",
   "id": "foster-hollow",
   "metadata": {},
   "source": [
    "# Лабораторная работа №1\n",
    "## Выполнил студент группы БСТ1903 Алёшин Данила\n",
    "### Задание №1\n",
    "1. Создать Jupyter Notebook со следующим наименованием: Lab1_Группа_ФИО\n",
    "2. Создать новую ячейку с помощью кнопки\n",
    "3. В созданной ячейке по указанной ниже форме заполните оглавление файла, заменив наименование группы и вписав свое ФИО, Рисунок 1 - Форма оглавления файла в ячейке после чего создайте еще одну ячейку и напишите следующий код:\n",
    "4. С помощью кнопки запустите выполнение всех ячеек.\n",
    "5. После выполнения у вас должна отформатироваться ячейка с оглавлением и должен выполниться “Hello, World!”"
   ]
  },
  {
   "cell_type": "code",
   "execution_count": 1,
   "id": "powerful-glossary",
   "metadata": {},
   "outputs": [
    {
     "name": "stdout",
     "output_type": "stream",
     "text": [
      "Hello, World!\n"
     ]
    }
   ],
   "source": [
    "print(\"Hello, World!\")"
   ]
  },
  {
   "cell_type": "markdown",
   "id": "renewable-timber",
   "metadata": {},
   "source": [
    "### Задание №2\n",
    "Написать генератор случайных матриц(многомерных), который принимает опциональные параметры m, n, min_limit, max_limit, где m и n указывают размер матрицы, а min_lim и max_lim - минимальное и максимальное значение для генерируемого числа . По умолчанию при отсутствии параметров принимать следующие значения: m = 50 n = 50 min_limit = -250 max_limit = 1000 + (номер своего варианта)"
   ]
  },
  {
   "cell_type": "code",
   "execution_count": 2,
   "id": "internal-prerequisite",
   "metadata": {},
   "outputs": [],
   "source": [
    "import numpy\n",
    "import time\n",
    "def matrixgenerate():\n",
    "    n=int(input())\n",
    "    m=int(input())\n",
    "    matrixx = numpy.random.random_integers(-250, 1002, size=(n, m))\n",
    "    print(*matrixx)\n",
    "    return matrixx"
   ]
  },
  {
   "cell_type": "markdown",
   "id": "brazilian-blanket",
   "metadata": {},
   "source": [
    "### Задание №3\n",
    "Реализовать методы сортировки строк числовой матрицы в соответствии с заданием. Оценить время работы каждого алгоритма сортировки и сравнить его со временем стандартной функции сортировки. Испытания проводить на сгенерированных матрицах."
   ]
  },
  {
   "cell_type": "markdown",
   "id": "australian-party",
   "metadata": {},
   "source": [
    "Сортировка выбором"
   ]
  },
  {
   "cell_type": "code",
   "execution_count": 3,
   "id": "anonymous-education",
   "metadata": {},
   "outputs": [],
   "source": [
    "def sortviborom(matrixx):\n",
    "    matrline=per(matrixx)\n",
    "    for i in range(0, len(matrline)):\n",
    "        for j in range(i, len(matrline)):\n",
    "            if matrline[i]>matrline[j]:\n",
    "                matrline[i], matrline[j]=matrline[j], matrline[i]     \n",
    "    return vivod(matrixx, matrline)"
   ]
  },
  {
   "cell_type": "markdown",
   "id": "documented-norfolk",
   "metadata": {},
   "source": [
    "Сортировка вставкой"
   ]
  },
  {
   "cell_type": "code",
   "execution_count": 4,
   "id": "precious-detail",
   "metadata": {},
   "outputs": [],
   "source": [
    "def sortvstavkami(matrixx):\n",
    "    matrline=per(matrixx)\n",
    "    for i in range(1, len(matrline)):\n",
    "        j=i-1\n",
    "        while (j>=0) and (matrline[j]>matrline[j+1]):\n",
    "            matrline[j], matrline[j+1]=matrline[j+1], matrline[j]\n",
    "            j=j-1\n",
    "    return vivod(matrixx, matrline)   "
   ]
  },
  {
   "cell_type": "markdown",
   "id": "defensive-clothing",
   "metadata": {},
   "source": [
    "Сортировка обменом"
   ]
  },
  {
   "cell_type": "code",
   "execution_count": 5,
   "id": "olympic-start",
   "metadata": {},
   "outputs": [],
   "source": [
    "def sortobmen(matrixx):\n",
    "    matrline=per(matrixx)\n",
    "    l=len(matrline)\n",
    "    while l>1:\n",
    "        for i in range(l-1):\n",
    "            if matrline[i]>matrline[i+1]:\n",
    "                matrline[i], matrline[i+1]=matrline[i+1], matrline[i]\n",
    "        l=l-1\n",
    "        \n",
    "    return vivod(matrixx, matrline)"
   ]
  },
  {
   "cell_type": "markdown",
   "id": "referenced-architecture",
   "metadata": {},
   "source": [
    "Сортировка Шелла"
   ]
  },
  {
   "cell_type": "code",
   "execution_count": 6,
   "id": "cognitive-device",
   "metadata": {},
   "outputs": [],
   "source": [
    "def shellsort(matrixx):\n",
    "    matrline=per(matrixx)\n",
    "    length=len(matrline)\n",
    "    l=length\n",
    "    while l>0:\n",
    "        for i in range(length-l):\n",
    "            j=i\n",
    "            while j>=0 and matrline[j+l]<matrline[j]:\n",
    "                    matrline[j], matrline[j+l]=matrline[j+l], matrline[j]\n",
    "                    j=j-l\n",
    "        l=int(l/2)\n",
    "    return vivod(matrixx, matrline) "
   ]
  },
  {
   "cell_type": "markdown",
   "id": "facial-brazil",
   "metadata": {},
   "source": [
    "Турнирная сортировка"
   ]
  },
  {
   "cell_type": "code",
   "execution_count": 7,
   "id": "hollywood-abraham",
   "metadata": {},
   "outputs": [],
   "source": [
    "def tyrsort(matrixx):\n",
    "    matrline=per(matrixx)\n",
    "    def _tyrsort(matrline):\n",
    "        tree = [None] * 2 * (len(matrline) + len(matrline) % 2)\n",
    "        index = len(tree) - len(matrline) - len(matrline) % 2\n",
    "        for i, v in enumerate(matrline):\n",
    "            tree[index + i] = (i, v)\n",
    "        for j in range(len(matrline)):\n",
    "            n = len(matrline)\n",
    "            index = len(tree) - len(matrline) - len(matrline) % 2\n",
    "            while index > -1:\n",
    "                n = (n + 1) // 2\n",
    "                for i in range(n):\n",
    "                    i = max(index + i * 2, 1)\n",
    "                    if tree[i] != None and tree[i + 1] != None:\n",
    "                        if tree[i][1] < tree[i + 1][1]:\n",
    "                            tree[i // 2] = tree[i]\n",
    "                        else:\n",
    "                            tree[i // 2] = tree[i + 1]\n",
    "                    else:\n",
    "                        tree[i // 2] = tree[i] if tree[i] != None else tree[i + 1]\n",
    "                index -= n\n",
    "\n",
    "            index, x = tree[0]\n",
    "            matrline[j] = x\n",
    "            tree[len(tree) - len(matrline) - len(matrline) % 2 + index] = None\n",
    "    _tyrsort(matrline)\n",
    "    return vivod(matrixx, matrline) "
   ]
  },
  {
   "cell_type": "markdown",
   "id": "sound-scanner",
   "metadata": {},
   "source": [
    "Быстрая сортировка"
   ]
  },
  {
   "cell_type": "code",
   "execution_count": 8,
   "id": "vocal-cycling",
   "metadata": {},
   "outputs": [],
   "source": [
    "def qs(matrixx):\n",
    "    matrline=per(matrixx)\n",
    "    def quicksort(matrline, first, last):\n",
    "        i=first\n",
    "        j=last\n",
    "        x=matrline[int((first+last)/2)]\n",
    "        while i<=j:\n",
    "            while matrline[i]<x:\n",
    "                i+=1\n",
    "            while matrline[j]>x:\n",
    "                j-=1\n",
    "            if i<=j:\n",
    "                if matrline[i]>matrline[j]:\n",
    "                    matrline[i], matrline[j]=matrline[j], matrline[i]\n",
    "                i+=1\n",
    "                j-=1\n",
    "        if i<last:\n",
    "            quicksort(matrline, i, last)\n",
    "        if first<j:\n",
    "            quicksort(matrline, first, j)\n",
    "    quicksort(matrline, 0, len(matrline)-1)\n",
    "    return vivod(matrixx, matrline)"
   ]
  },
  {
   "cell_type": "markdown",
   "id": "accepted-richardson",
   "metadata": {},
   "source": [
    "Пирамидальная сортировка"
   ]
  },
  {
   "cell_type": "code",
   "execution_count": 9,
   "id": "collective-forum",
   "metadata": {},
   "outputs": [],
   "source": [
    "def heapSort(matrixx):\n",
    "    matrline=per(matrixx)\n",
    "    def downHeap(matrline, k, n):\n",
    "        el = matrline[k]\n",
    "        while 2*k+1 < n:\n",
    "            child = 2*k+1\n",
    "            if child+1 < n and matrline[child] < matrline[child+1]:\n",
    "                child += 1\n",
    "            if el >= matrline[child]:\n",
    "                break\n",
    "            matrline[k] = matrline[child]\n",
    "            k = child\n",
    "        matrline[k] = el\n",
    "  \n",
    "    size = len(matrline)\n",
    "    for i in range(size//2-1,-1,-1):\n",
    "        downHeap(matrline, i, size)\n",
    "    for i in range(size-1,0,-1):\n",
    "        temp = matrline[i]\n",
    "        matrline[i] = matrline[0]\n",
    "        matrline[0] = temp\n",
    "        downHeap(matrline, 0, i)\n",
    "    return vivod(matrixx, matrline)"
   ]
  },
  {
   "cell_type": "markdown",
   "id": "bibliographic-clearance",
   "metadata": {},
   "source": [
    "Функции для реализации программы"
   ]
  },
  {
   "cell_type": "code",
   "execution_count": 10,
   "id": "representative-headset",
   "metadata": {},
   "outputs": [],
   "source": [
    "def per(matrixx):\n",
    "    n=len(matrixx)\n",
    "    m=len(matrixx[0])\n",
    "    matrline=[0]*(n*m)\n",
    "    x=int(0)\n",
    "    for i in range(0, n):\n",
    "        for j in range(0, m):\n",
    "            matrline[x]=matrixx[i][j]\n",
    "            x=x+1\n",
    "    return matrline\n",
    "\n",
    "def vivod(matrixx, matrline):\n",
    "    n=len(matrixx)\n",
    "    m=len(matrixx[0])\n",
    "    x=int(0)\n",
    "    matrix=[[0] * m for i in range(n)]\n",
    "    for i in range(0, n):\n",
    "        for j in range(0, m):\n",
    "            matrix[i][j]=matrline[x]\n",
    "            x=x+1\n",
    "    return matrix "
   ]
  },
  {
   "cell_type": "markdown",
   "id": "found-exposure",
   "metadata": {},
   "source": [
    "Вывод"
   ]
  },
  {
   "cell_type": "code",
   "execution_count": 11,
   "id": "useful-merit",
   "metadata": {},
   "outputs": [
    {
     "name": "stdout",
     "output_type": "stream",
     "text": [
      "10\n",
      "10\n",
      "[ 183  580 -196  571  333   39   -9  730  731  873] [ 559  953  882  149  646  825  394  831   14 -105] [ 950  -34  467  658 -200  -83  950  638  776  -31] [ 912  806  573  546  195  509  335  422 -115  -77] [ 636  466  549  -64 -141  542 -205  302  -23  337] [409 153 879 675  29 989 169 258 136 255] [ 649  485  266  953  380  126  -40  881 -139  660] [ 845  687  -36 -184  922 -164  317  978   62 -220] [-207   89  811 -107 -139  248  967  981  808  -56] [-48 325 834 -26 205 855 860 553 534 -21]\n",
      "\n",
      "Время работы стандартной сортировки 0.0001667999999881431 \n",
      "Результат сортировки\n",
      " [-220, -207, -205, -200, -196, -184, -164, -141, -139, -139] [-115, -107, -105, -83, -77, -64, -56, -48, -40, -36] [-34, -31, -26, -23, -21, -9, 14, 29, 39, 62] [89, 126, 136, 149, 153, 169, 183, 195, 205, 248] [255, 258, 266, 302, 317, 325, 333, 335, 337, 380] [394, 409, 422, 466, 467, 485, 509, 534, 542, 546] [549, 553, 559, 571, 573, 580, 636, 638, 646, 649] [658, 660, 675, 687, 730, 731, 776, 806, 808, 811] [825, 831, 834, 845, 855, 860, 873, 879, 881, 882] [912, 922, 950, 950, 953, 953, 967, 978, 981, 989]\n",
      "\n",
      "Время работы сортировки выбором 0.000605800000016643 \n",
      "Результат сортировки\n",
      " [-220, -207, -205, -200, -196, -184, -164, -141, -139, -139] [-115, -107, -105, -83, -77, -64, -56, -48, -40, -36] [-34, -31, -26, -23, -21, -9, 14, 29, 39, 62] [89, 126, 136, 149, 153, 169, 183, 195, 205, 248] [255, 258, 266, 302, 317, 325, 333, 335, 337, 380] [394, 409, 422, 466, 467, 485, 509, 534, 542, 546] [549, 553, 559, 571, 573, 580, 636, 638, 646, 649] [658, 660, 675, 687, 730, 731, 776, 806, 808, 811] [825, 831, 834, 845, 855, 860, 873, 879, 881, 882] [912, 922, 950, 950, 953, 953, 967, 978, 981, 989]\n",
      "\n",
      "Время работы сортировки вставкой 0.000551999999970576 \n",
      "Результат сортировки\n",
      " [-220, -207, -205, -200, -196, -184, -164, -141, -139, -139] [-115, -107, -105, -83, -77, -64, -56, -48, -40, -36] [-34, -31, -26, -23, -21, -9, 14, 29, 39, 62] [89, 126, 136, 149, 153, 169, 183, 195, 205, 248] [255, 258, 266, 302, 317, 325, 333, 335, 337, 380] [394, 409, 422, 466, 467, 485, 509, 534, 542, 546] [549, 553, 559, 571, 573, 580, 636, 638, 646, 649] [658, 660, 675, 687, 730, 731, 776, 806, 808, 811] [825, 831, 834, 845, 855, 860, 873, 879, 881, 882] [912, 922, 950, 950, 953, 953, 967, 978, 981, 989]\n",
      "\n",
      "Время работы сортировки обменом 0.0006845000000339496 \n",
      "Результат сортировки\n",
      " [-220, -207, -205, -200, -196, -184, -164, -141, -139, -139] [-115, -107, -105, -83, -77, -64, -56, -48, -40, -36] [-34, -31, -26, -23, -21, -9, 14, 29, 39, 62] [89, 126, 136, 149, 153, 169, 183, 195, 205, 248] [255, 258, 266, 302, 317, 325, 333, 335, 337, 380] [394, 409, 422, 466, 467, 485, 509, 534, 542, 546] [549, 553, 559, 571, 573, 580, 636, 638, 646, 649] [658, 660, 675, 687, 730, 731, 776, 806, 808, 811] [825, 831, 834, 845, 855, 860, 873, 879, 881, 882] [912, 922, 950, 950, 953, 953, 967, 978, 981, 989]\n",
      "\n",
      "Время работы сортировки Шелла 0.00021939999999176507 \n",
      "Результат сортировки\n",
      " [-220, -207, -205, -200, -196, -184, -164, -141, -139, -139] [-115, -107, -105, -83, -77, -64, -56, -48, -40, -36] [-34, -31, -26, -23, -21, -9, 14, 29, 39, 62] [89, 126, 136, 149, 153, 169, 183, 195, 205, 248] [255, 258, 266, 302, 317, 325, 333, 335, 337, 380] [394, 409, 422, 466, 467, 485, 509, 534, 542, 546] [549, 553, 559, 571, 573, 580, 636, 638, 646, 649] [658, 660, 675, 687, 730, 731, 776, 806, 808, 811] [825, 831, 834, 845, 855, 860, 873, 879, 881, 882] [912, 922, 950, 950, 953, 953, 967, 978, 981, 989]\n",
      "\n",
      "Время работы турнирной сортировки 0.0045814999999720385 \n",
      "Результат сортировки\n",
      " [-196, -220, -220, -207, -207, -205, -205, -200, -200, -184] [-184, -164, -164, -141, -141, -139, -139, -139, -139, -115] [-115, -107, -107, -105, -105, -83, -83, -77, -77, -64] [-64, -56, -56, -48, -48, -40, -40, -36, -36, -34] [-34, -31, -31, -26, -26, -23, -23, -21, -21, -9] [14, 14, 29, 29, 39, 62, 62, 89, 89, 126] [126, 136, 136, 149, 153, 153, 169, 169, 183, 183] [195, 195, 205, 205, 248, 248, 255, 255, 258, 258] [266, 266, 302, 302, 317, 317, 325, 325, 333, 335] [335, 337, 337, 380, 380, 394, 394, 409, 409, 422]\n",
      "\n",
      "Время работы быстрой сортировки 0.0001989000000435226 \n",
      "Результат сортировки\n",
      " [-220, -207, -205, -200, -196, -184, -164, -141, -139, -139] [-115, -107, -105, -83, -77, -64, -56, -48, -40, -36] [-34, -31, -26, -23, -21, -9, 14, 29, 39, 62] [89, 126, 136, 149, 153, 169, 183, 195, 205, 248] [255, 258, 266, 302, 317, 325, 333, 335, 337, 380] [394, 409, 422, 466, 467, 485, 509, 534, 542, 546] [549, 553, 559, 571, 573, 580, 636, 638, 646, 649] [658, 660, 675, 687, 730, 731, 776, 806, 808, 811] [825, 831, 834, 845, 855, 860, 873, 879, 881, 882] [912, 922, 950, 950, 953, 953, 967, 978, 981, 989]\n",
      "\n",
      "Время работы пирамидальной сортировки 0.00022709999996095576 \n",
      "Результат сортировки\n",
      " [-220, -207, -205, -200, -196, -184, -164, -141, -139, -139] [-115, -107, -105, -83, -77, -64, -56, -48, -40, -36] [-34, -31, -26, -23, -21, -9, 14, 29, 39, 62] [89, 126, 136, 149, 153, 169, 183, 195, 205, 248] [255, 258, 266, 302, 317, 325, 333, 335, 337, 380] [394, 409, 422, 466, 467, 485, 509, 534, 542, 546] [549, 553, 559, 571, 573, 580, 636, 638, 646, 649] [658, 660, 675, 687, 730, 731, 776, 806, 808, 811] [825, 831, 834, 845, 855, 860, 873, 879, 881, 882] [912, 922, 950, 950, 953, 953, 967, 978, 981, 989]\n"
     ]
    },
    {
     "name": "stderr",
     "output_type": "stream",
     "text": [
      "<ipython-input-2-eeea6d652fff>:6: DeprecationWarning: This function is deprecated. Please call randint(-250, 1002 + 1) instead\n",
      "  matrixx = numpy.random.random_integers(-250, 1002, size=(n, m))\n"
     ]
    }
   ],
   "source": [
    "matrixx=matrixgenerate()\n",
    "\n",
    "#Стандартная сортировка\n",
    "timerStart = time.perf_counter()\n",
    "matrline=per(matrixx)\n",
    "matrline=sorted(matrline)\n",
    "matrixstandart=vivod(matrixx, matrline)\n",
    "timerEnd = time.perf_counter()\n",
    "timer1 = timerEnd - timerStart\n",
    "#\n",
    "\n",
    "#Сортировка выбором\n",
    "timerStart = time.perf_counter()\n",
    "matrix=sortviborom(matrixx)\n",
    "timerEnd = time.perf_counter()\n",
    "timer2 = timerEnd - timerStart\n",
    "#\n",
    "\n",
    "#Сортировка вставками\n",
    "timerStart = time.perf_counter()\n",
    "matrix1=sortvstavkami(matrixx)\n",
    "timerEnd = time.perf_counter()\n",
    "timer3 = timerEnd - timerStart\n",
    "#\n",
    "\n",
    "#Сортировка обменом\n",
    "timerStart = time.perf_counter()\n",
    "matrix2=sortobmen(matrixx)\n",
    "timerEnd = time.perf_counter()\n",
    "timer4 = timerEnd - timerStart\n",
    "#\n",
    "\n",
    "#Сортировка Шелла\n",
    "timerStart = time.perf_counter()\n",
    "matrix3=shellsort(matrixx)\n",
    "timerEnd = time.perf_counter()\n",
    "timer5 = timerEnd - timerStart\n",
    "#\n",
    "\n",
    "#Турнирная сортировка\n",
    "timerStart = time.perf_counter()\n",
    "matrix4=tyrsort(matrixx)\n",
    "timerEnd = time.perf_counter()\n",
    "timer6 = timerEnd - timerStart\n",
    "#\n",
    "\n",
    "#Быстрая сортировка\n",
    "timerStart = time.perf_counter()\n",
    "matrix5=qs(matrixx)\n",
    "timerEnd = time.perf_counter()\n",
    "timer7 = timerEnd - timerStart\n",
    "#\n",
    "\n",
    "#Пирамидальная сортировка\n",
    "timerStart = time.perf_counter()\n",
    "matrix6=heapSort(matrixx)\n",
    "timerEnd = time.perf_counter()\n",
    "timer8 = timerEnd - timerStart\n",
    "#\n",
    "print(\"\\nВремя работы стандартной сортировки\", timer1,\"\\nРезультат сортировки\\n\", *matrixstandart)\n",
    "print(\"\\nВремя работы сортировки выбором\", timer2,\"\\nРезультат сортировки\\n\", *matrix)\n",
    "print(\"\\nВремя работы сортировки вставкой\", timer3,\"\\nРезультат сортировки\\n\", *matrix1)\n",
    "print(\"\\nВремя работы сортировки обменом\", timer4,\"\\nРезультат сортировки\\n\", *matrix2)\n",
    "print(\"\\nВремя работы сортировки Шелла\", timer5,\"\\nРезультат сортировки\\n\", *matrix3)\n",
    "print(\"\\nВремя работы турнирной сортировки\", timer6,\"\\nРезультат сортировки\\n\", *matrix4)\n",
    "print(\"\\nВремя работы быстрой сортировки\", timer7,\"\\nРезультат сортировки\\n\", *matrix5)\n",
    "print(\"\\nВремя работы пирамидальной сортировки\", timer8,\"\\nРезультат сортировки\\n\", *matrix6)"
   ]
  },
  {
   "cell_type": "markdown",
   "id": "dominican-delivery",
   "metadata": {},
   "source": [
    "## Вывод:\n",
    "В результате проделанной лабораторной работы мы реализовали генерацию случайной матрицы и изучили методы сортировок матрицы."
   ]
  },
  {
   "cell_type": "code",
   "execution_count": null,
   "id": "acceptable-lewis",
   "metadata": {},
   "outputs": [],
   "source": []
  }
 ],
 "metadata": {
  "kernelspec": {
   "display_name": "Python 3",
   "language": "python",
   "name": "python3"
  },
  "language_info": {
   "codemirror_mode": {
    "name": "ipython",
    "version": 3
   },
   "file_extension": ".py",
   "mimetype": "text/x-python",
   "name": "python",
   "nbconvert_exporter": "python",
   "pygments_lexer": "ipython3",
   "version": "3.9.1"
  }
 },
 "nbformat": 4,
 "nbformat_minor": 5
}
