{
 "cells": [
  {
   "cell_type": "markdown",
   "id": "aquatic-space",
   "metadata": {},
   "source": [
    "# Лабораторная работа №1\n",
    "## Выполнил студент группы БСТ1903 Алёшин Данила\n",
    "### Задание №1\n",
    "Описание условия задания"
   ]
  },
  {
   "cell_type": "code",
   "execution_count": 6,
   "id": "powerful-glossary",
   "metadata": {},
   "outputs": [
    {
     "name": "stdout",
     "output_type": "stream",
     "text": [
      "Hello, World!\n"
     ]
    }
   ],
   "source": [
    "print(\"Hello, World!\")"
   ]
  },
  {
   "cell_type": "markdown",
   "id": "imperial-bangladesh",
   "metadata": {},
   "source": [
    "### Задание №2"
   ]
  },
  {
   "cell_type": "code",
   "execution_count": 50,
   "id": "early-venice",
   "metadata": {},
   "outputs": [
    {
     "name": "stdout",
     "output_type": "stream",
     "text": [
      "2\n",
      "2\n",
      "[0 5] [10  8]\n"
     ]
    },
    {
     "name": "stderr",
     "output_type": "stream",
     "text": [
      "<ipython-input-50-c93332868789>:68: DeprecationWarning: This function is deprecated. Please call randint(0, 10 + 1) instead\n",
      "  matrixx = numpy.random.random_integers(0, 10, size=(n, m))\n"
     ]
    },
    {
     "ename": "NameError",
     "evalue": "name 'qSort' is not defined",
     "output_type": "error",
     "traceback": [
      "\u001b[1;31m---------------------------------------------------------------------------\u001b[0m",
      "\u001b[1;31mNameError\u001b[0m                                 Traceback (most recent call last)",
      "\u001b[1;32m<ipython-input-50-c93332868789>\u001b[0m in \u001b[0;36m<module>\u001b[1;34m\u001b[0m\n\u001b[0;32m     79\u001b[0m \u001b[1;31m#Быстрая сортировка\u001b[0m\u001b[1;33m\u001b[0m\u001b[1;33m\u001b[0m\u001b[1;33m\u001b[0m\u001b[0m\n\u001b[0;32m     80\u001b[0m \u001b[0mmatrix3\u001b[0m\u001b[1;33m=\u001b[0m \u001b[0mmatrixx\u001b[0m\u001b[1;33m\u001b[0m\u001b[1;33m\u001b[0m\u001b[0m\n\u001b[1;32m---> 81\u001b[1;33m \u001b[0mqSort\u001b[0m\u001b[1;33m(\u001b[0m\u001b[0mmatrix3\u001b[0m\u001b[1;33m,\u001b[0m \u001b[1;36m0\u001b[0m\u001b[1;33m,\u001b[0m \u001b[0mm\u001b[0m\u001b[1;33m)\u001b[0m\u001b[1;33m\u001b[0m\u001b[1;33m\u001b[0m\u001b[0m\n\u001b[0m\u001b[0;32m     82\u001b[0m \u001b[1;33m\u001b[0m\u001b[0m\n\u001b[0;32m     83\u001b[0m \u001b[0mprint\u001b[0m\u001b[1;33m(\u001b[0m\u001b[1;34m\"\\nВывод сортировки выбором\\n\"\u001b[0m\u001b[1;33m,\u001b[0m \u001b[1;33m*\u001b[0m\u001b[0mmatrix\u001b[0m\u001b[1;33m)\u001b[0m\u001b[1;33m\u001b[0m\u001b[1;33m\u001b[0m\u001b[0m\n",
      "\u001b[1;31mNameError\u001b[0m: name 'qSort' is not defined"
     ]
    }
   ],
   "source": [
    "#Cортировка выбором\n",
    "def sortviborom(matrline, n, m):\n",
    "    for i in range(0, len(matrline)):\n",
    "        for j in range(i, len(matrline)):\n",
    "            if matrline[i]>matrline[j]:\n",
    "                matrline[i], matrline[j]=matrline[j], matrline[i]\n",
    "    x=int(0)\n",
    "    matrix=[[0] * m for i in range(n)]\n",
    "    for i in range(0, n):\n",
    "        for j in range(0, m):\n",
    "            matrix[i][j]=matrline[x]\n",
    "            x=x+1\n",
    "    return matrix\n",
    "#Конец сортировки выбором\n",
    "\n",
    "#Сортировка вставками\n",
    "def sortvstavkami(matrline, n, m):\n",
    "    for i in range(1, len(matrline)):\n",
    "        j=i-1\n",
    "        while (j>=0) and (matrline[j]>matrline[j+1]):\n",
    "            swap(matrline, j+1, j)\n",
    "            j=j-1\n",
    "    x=int(0)\n",
    "    matrix=[[0] * m for i in range(n)]\n",
    "    for i in range(0, n):\n",
    "        for j in range(0, m):\n",
    "            matrix[i][j]=matrline[x]\n",
    "            x=x+1\n",
    "    return matrix     \n",
    "#Конец сортировки вставками\n",
    "\n",
    "# Сортировка Обменом\n",
    "def sortobmen(matrline, n, m):\n",
    "    l=int(n*m)\n",
    "    while l>1:\n",
    "        for i in range(l-1):\n",
    "            if matrline[i]>matrline[i+1]:\n",
    "                swap(matrline, i, i+1)\n",
    "            l-=1\n",
    "    x=int(0)\n",
    "    matrix=[[0] * m for i in range(n)]\n",
    "    for i in range(0, n):\n",
    "        for j in range(0, m):\n",
    "            matrix[i][j]=matrline[x]\n",
    "            x=x+1\n",
    "    return matrix \n",
    "# Конец сортировки обменом\n",
    "\n",
    "#Сортировка Шелла\n",
    "def shellsort(matrline, n, m):\n",
    "    l=int(n*m)\n",
    "    while l>0:\n",
    "        for i in range(matrline):\n",
    "            while i>=l and matrline[i-l]>matrline[i]:\n",
    "                swap(matrline)\n",
    "    \n",
    "    \n",
    "    x=int(0)\n",
    "    matrix=[[0] * m for i in range(n)]\n",
    "    for i in range(0, n):\n",
    "        for j in range(0, m):\n",
    "            matrix[i][j]=matrline[x]\n",
    "            x=x+1\n",
    "    return matrix \n",
    "#Конец сортировки Шелла\n",
    "\n",
    "\n",
    "import numpy\n",
    "n=int(input())\n",
    "m=int(input())\n",
    "\n",
    "matrixx = numpy.random.random_integers(0, 10, size=(n, m))\n",
    "print(*matrixx)\n",
    "matrline=[0]*(n*m)\n",
    "x=int(0)\n",
    "for i in range(0, n):\n",
    "    for j in range(0, m):\n",
    "            matrline[x]=matrixx[i][j]\n",
    "            x=x+1\n",
    "matrix=sortviborom(matrline, n, m)\n",
    "matrix1=sortvstavkami(matrline, n, m)\n",
    "matrix2=sortobmen(matrline, n, m)\n",
    "\n",
    "print(\"\\nВывод сортировки выбором\\n\", *matrix)\n",
    "print(\"\\nВывод сортировки вставкой\\n\", *matrix1)\n",
    "print(\"\\nВывод сортировки обменом\\n\", *matrix2)\n",
    "print(\"\\nВывод быстрой сортировки\\n\", *matrix3)"
   ]
  },
  {
   "cell_type": "code",
   "execution_count": null,
   "id": "nominated-emphasis",
   "metadata": {},
   "outputs": [],
   "source": []
  },
  {
   "cell_type": "code",
   "execution_count": null,
   "id": "supreme-creature",
   "metadata": {},
   "outputs": [],
   "source": []
  }
 ],
 "metadata": {
  "kernelspec": {
   "display_name": "Python 3",
   "language": "python",
   "name": "python3"
  },
  "language_info": {
   "codemirror_mode": {
    "name": "ipython",
    "version": 3
   },
   "file_extension": ".py",
   "mimetype": "text/x-python",
   "name": "python",
   "nbconvert_exporter": "python",
   "pygments_lexer": "ipython3",
   "version": "3.9.1"
  }
 },
 "nbformat": 4,
 "nbformat_minor": 5
}
