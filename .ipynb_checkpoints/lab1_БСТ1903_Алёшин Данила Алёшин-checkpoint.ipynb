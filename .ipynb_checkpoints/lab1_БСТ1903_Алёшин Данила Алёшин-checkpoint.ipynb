{
 "cells": [
  {
   "cell_type": "markdown",
   "id": "aquatic-space",
   "metadata": {},
   "source": [
    "# Лабораторная работа №1\n",
    "## Выполнил студент группы БСТ1903 Алёшин Данила\n",
    "### Задание №1\n",
    "Описание условия задания"
   ]
  },
  {
   "cell_type": "code",
   "execution_count": 6,
   "id": "powerful-glossary",
   "metadata": {},
   "outputs": [
    {
     "name": "stdout",
     "output_type": "stream",
     "text": [
      "Hello, World!\n"
     ]
    }
   ],
   "source": [
    "print(\"Hello, World!\")"
   ]
  },
  {
   "cell_type": "markdown",
   "id": "imperial-bangladesh",
   "metadata": {},
   "source": [
    "### Задание №2"
   ]
  },
  {
   "cell_type": "code",
   "execution_count": 94,
   "id": "early-venice",
   "metadata": {},
   "outputs": [
    {
     "name": "stdout",
     "output_type": "stream",
     "text": [
      "4\n",
      "4\n",
      "[[6 8 4 6]\n",
      " [3 1 4 0]\n",
      " [9 9 1 4]\n",
      " [5 2 1 2]]\n",
      "\n",
      "REZULT [[0 1 1 1]\n",
      " [2 2 3 4]\n",
      " [4 4 5 6]\n",
      " [6 8 9 9]]\n"
     ]
    },
    {
     "name": "stderr",
     "output_type": "stream",
     "text": [
      "<ipython-input-94-721b23d30ff5>:5: DeprecationWarning: This function is deprecated. Please call randint(0, 10 + 1) instead\n",
      "  matrixx = numpy.random.random_integers(0, 10, size=(n, m))\n"
     ]
    }
   ],
   "source": [
    "import numpy\n",
    "n=int(input())\n",
    "m=int(input())\n",
    "\n",
    "matrixx = numpy.random.random_integers(0, 10, size=(n, m))\n",
    "print(matrixx)\n",
    "matrline=[0]*(n*m)\n",
    "x=int(0)\n",
    "for k in range(0, n):\n",
    "    for p in range(0, m):\n",
    "            matrline[x]=matrixx[k, p]\n",
    "            x=x+1\n",
    "\n",
    "for i in range(0, len(matrline)):\n",
    "    for j in range(i, len(matrline)):\n",
    "        if matrline[i]>matrline[j]:\n",
    "            s=matrline[i]\n",
    "            matrline[i]=matrline[j]\n",
    "            matrline[j]=s\n",
    "x=int(0)\n",
    "for i in range(0, n):\n",
    "    for j in range(0, m):\n",
    "        matrixx[i, j]=matrline[x]\n",
    "        x=x+1\n",
    "\n",
    "print(\"\\nREZULT\", matrixx)"
   ]
  },
  {
   "cell_type": "code",
   "execution_count": null,
   "id": "lesser-marina",
   "metadata": {},
   "outputs": [],
   "source": []
  },
  {
   "cell_type": "code",
   "execution_count": null,
   "id": "modern-dealer",
   "metadata": {},
   "outputs": [],
   "source": []
  }
 ],
 "metadata": {
  "kernelspec": {
   "display_name": "Python 3",
   "language": "python",
   "name": "python3"
  },
  "language_info": {
   "codemirror_mode": {
    "name": "ipython",
    "version": 3
   },
   "file_extension": ".py",
   "mimetype": "text/x-python",
   "name": "python",
   "nbconvert_exporter": "python",
   "pygments_lexer": "ipython3",
   "version": "3.9.1"
  }
 },
 "nbformat": 4,
 "nbformat_minor": 5
}
