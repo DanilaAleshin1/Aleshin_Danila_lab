{
 "cells": [
  {
   "cell_type": "markdown",
   "id": "focused-salad",
   "metadata": {},
   "source": [
    "# Задача 1. «Треугольник с максимальным периметром»\n",
    "Массив A состоит из целых положительных чисел ­ длин отрезков. Составьте из трех отрезков такой треугольник, чтобы его периметр был максимально возможным. Если невозможно\n",
    "составить треугольник с положительной площадью ­ функция возвращает 0."
   ]
  },
  {
   "cell_type": "code",
   "execution_count": 4,
   "id": "chronic-expression",
   "metadata": {},
   "outputs": [
    {
     "name": "stdout",
     "output_type": "stream",
     "text": [
      "Введите длину массива5\n",
      "1\n",
      "2\n",
      "3\n",
      "4\n",
      "5\n",
      "[5, 4, 3, 2, 1]\n",
      "Периметр= 12\n"
     ]
    }
   ],
   "source": [
    "#Находжение периметра\n",
    "def Perimetr (a, b, c):\n",
    "    if (a+b)>c and (a+c)>b and (b+c)>a:\n",
    "        return int(a+b+c)\n",
    "    else:\n",
    "        return 0\n",
    "#\n",
    "length=int(input('Введите длину массива'))\n",
    "mas=[]\n",
    "for i in range(length):\n",
    "    mas.append(int(input()))\n",
    "mas=sorted(mas, reverse=True)\n",
    "print(mas)\n",
    "for i in range(len(mas)-2):\n",
    "    if Perimetr(mas[i], mas[i+1], mas[i+2])>0:\n",
    "        print(\"Периметр=\", Perimetr(mas[i], mas[i+1], mas[i+2]))\n",
    "        break\n"
   ]
  },
  {
   "cell_type": "markdown",
   "id": "sitting-fifteen",
   "metadata": {},
   "source": [
    "# Задача 2. «Максимальное число»\n",
    "Дан массив неотрицательных целых чисел nums. Расположите их в таком порядке, чтобы\n",
    "вместе они образовали максимально возможное число."
   ]
  },
  {
   "cell_type": "code",
   "execution_count": 20,
   "id": "passing-preview",
   "metadata": {},
   "outputs": [
    {
     "name": "stdout",
     "output_type": "stream",
     "text": [
      "Введите длину массива5\n",
      "3\n",
      "30\n",
      "34\n",
      "5\n",
      "9\n",
      " 9 5 3 34 30\n"
     ]
    }
   ],
   "source": [
    "def per_mas(n, m, r):\n",
    "    for i in range(n):\n",
    "        for j in range(r, m):\n",
    "            yield i, j\n",
    "\n",
    "length=int(input('Введите длину массива'))\n",
    "nums=[]\n",
    "max=\"0\"\n",
    "rez=\"\"\n",
    "for i in range(length):\n",
    "    nums.append(input())\n",
    "\n",
    "for i in range(len(nums)):\n",
    "    for j in range(i+1, len(nums)):\n",
    "        if int(nums[j][0])>int(nums[i][0]):\n",
    "            nums[j], nums[i]=nums[i], nums[j]\n",
    "        elif (int(nums[j][0])==int(nums[i][0])):\n",
    "            r=1\n",
    "            while len(nums[j])>r and len(nums[i])>r and int(nums[j][r])==int(nums[i][r]):\n",
    "                r=r+1\n",
    "            for k, m in per_mas(len(nums[j]), len(nums[i]), r):\n",
    "                #print(nums[j][k], \"and\", nums[i][m])\n",
    "                if int(nums[j][k])>int(nums[i][m]):\n",
    "                    nums[j], nums[i]=nums[i], nums[j]\n",
    "                    break\n",
    "                        \n",
    "for i in range(len(nums)):\n",
    "    rez=rez+\" \"+str(nums[i])\n",
    "print(rez)"
   ]
  },
  {
   "cell_type": "code",
   "execution_count": 9,
   "id": "joint-revolution",
   "metadata": {},
   "outputs": [
    {
     "name": "stdout",
     "output_type": "stream",
     "text": [
      " 8308 8308 830\n",
      " 9 99991\n",
      " 9 5 34 3 30\n"
     ]
    }
   ],
   "source": [
    "def check(a,b):\n",
    "    one=str(a)+str(b)\n",
    "    two=str(b)+str(a)\n",
    "    if int(one)>int(two):\n",
    "        return True\n",
    "    else:\n",
    "        return False\n",
    "    \n",
    "def shell(massline):\n",
    "    length=len(massline)\n",
    "    l=length\n",
    "    while l>0:\n",
    "        for i in range(length-l):\n",
    "            j=i\n",
    "            while j>=0 and check(massline[j+l], massline[j]):\n",
    "                massline[j], massline[j+l]=massline[j+l], massline[j]\n",
    "                j=j-l\n",
    "        l=int(l/2)\n",
    "    strr=\"\"\n",
    "    for i in range(len(massline)):\n",
    "        strr=strr+\" \"+str(massline[i])\n",
    "    return strr\n",
    "\n",
    "mas1=[8308,8308,830]\n",
    "mas2=[99991,9]\n",
    "mas3=[3,30,34,5,9]\n",
    "print(shell(mas1))\n",
    "print(shell(mas2))\n",
    "print(shell(mas3))"
   ]
  },
  {
   "cell_type": "markdown",
   "id": "painful-feedback",
   "metadata": {},
   "source": [
    "# Задача 3. «Сортировка диагоналей в матрице»\n",
    "Дана матрица mat размером m * n, значения ­ целочисленные. Напишите функцию, сортирующую каждую диагональ матрицы по возрастанию и возвращающую получившуюся матрицу.\n"
   ]
  },
  {
   "cell_type": "code",
   "execution_count": 82,
   "id": "cubic-polyester",
   "metadata": {},
   "outputs": [
    {
     "name": "stdout",
     "output_type": "stream",
     "text": [
      "Введите m и n:4 5\n",
      "[[ 5 17 16 16 17]\n",
      " [ 6  8  8 13  6]\n",
      " [13 10 11  3 17]\n",
      " [11  6 18  4  7]]\n",
      "\n",
      "\n",
      "\n",
      "[[ 4  3 13  6 17]\n",
      " [ 6  5  7 16 16]\n",
      " [ 6 10  8  8 17]\n",
      " [11 13 18 11 17]]\n"
     ]
    },
    {
     "name": "stderr",
     "output_type": "stream",
     "text": [
      "<ipython-input-82-401fb204b888>:7: DeprecationWarning: This function is deprecated. Please call randint(0, 20 + 1) instead\n",
      "  massiv = numpy.random.random_integers(0, 20, size=(m, n))\n"
     ]
    }
   ],
   "source": [
    "import numpy\n",
    "def per_mas(n, m):\n",
    "    for i in range(n):\n",
    "        for j in range(m):\n",
    "            yield i, j\n",
    "m, n= map(int, input('Введите m и n:').split(' '))\n",
    "massiv = numpy.random.random_integers(0, 20, size=(m, n))\n",
    "print(massiv)\n",
    "for i, j in per_mas(len(massiv[0]), len(massiv)):\n",
    "    k=j\n",
    "    l=i\n",
    "    while k<len(massiv[0]) and l<len(massiv):\n",
    "        if massiv[i][j]>massiv[l][k]:\n",
    "            massiv[i][j], massiv[l][k]=massiv[l][k], massiv[i][j]\n",
    "        k=k+1\n",
    "        l=l+1\n",
    "            \n",
    "print(\"\\n\\n\")\n",
    "print(massiv)"
   ]
  },
  {
   "cell_type": "code",
   "execution_count": null,
   "id": "whole-airfare",
   "metadata": {},
   "outputs": [],
   "source": []
  }
 ],
 "metadata": {
  "kernelspec": {
   "display_name": "Python 3",
   "language": "python",
   "name": "python3"
  },
  "language_info": {
   "codemirror_mode": {
    "name": "ipython",
    "version": 3
   },
   "file_extension": ".py",
   "mimetype": "text/x-python",
   "name": "python",
   "nbconvert_exporter": "python",
   "pygments_lexer": "ipython3",
   "version": "3.9.1"
  }
 },
 "nbformat": 4,
 "nbformat_minor": 5
}
