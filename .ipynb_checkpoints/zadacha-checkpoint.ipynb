{
 "cells": [
  {
   "cell_type": "code",
   "execution_count": 25,
   "id": "desirable-accessory",
   "metadata": {},
   "outputs": [
    {
     "name": "stdout",
     "output_type": "stream",
     "text": [
      "[[1, 2], [2, 3], [3, 4], [4, 5]]\n",
      "2\n"
     ]
    }
   ],
   "source": [
    "class sh:\n",
    "    def __init__(self, mass):\n",
    "        self.mass=mass\n",
    "        self.count=1\n",
    "    \n",
    "    def search(self):\n",
    "        m=0\n",
    "        mass.sort()\n",
    "        print(mass)\n",
    "        for i in range(len(mass)-1):\n",
    "            if mass[m][1]<mass[i+1][0] :\n",
    "                self.count=self.count+1\n",
    "                m=i+1\n",
    "        return self.count\n",
    "            \n",
    "mass=[[1,2],[2,3],[3,4],[4,5]]           \n",
    "a=sh(mass)\n",
    "print(a.search())"
   ]
  },
  {
   "cell_type": "code",
   "execution_count": null,
   "id": "difficult-queens",
   "metadata": {},
   "outputs": [],
   "source": []
  }
 ],
 "metadata": {
  "kernelspec": {
   "display_name": "Python 3",
   "language": "python",
   "name": "python3"
  },
  "language_info": {
   "codemirror_mode": {
    "name": "ipython",
    "version": 3
   },
   "file_extension": ".py",
   "mimetype": "text/x-python",
   "name": "python",
   "nbconvert_exporter": "python",
   "pygments_lexer": "ipython3",
   "version": "3.9.1"
  }
 },
 "nbformat": 4,
 "nbformat_minor": 5
}
